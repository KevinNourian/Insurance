{
 "cells": [
  {
   "cell_type": "markdown",
   "id": "25aaf1b5",
   "metadata": {},
   "source": [
    "# 03 Insurance Draft"
   ]
  },
  {
   "cell_type": "code",
   "execution_count": 3,
   "id": "73e35264",
   "metadata": {},
   "outputs": [],
   "source": [
    "import pandas as pd\n",
    "import numpy as np\n",
    "import seaborn as sns\n",
    "import matplotlib as mpl\n",
    "import matplotlib.pyplot as plt\n",
    "\n",
    "from sklearn.preprocessing import LabelEncoder\n",
    "from sklearn.model_selection import train_test_split\n",
    "from sklearn.linear_model import LogisticRegression\n",
    "from sklearn.metrics import classification_report\n",
    "from sklearn.metrics import confusion_matrix\n",
    "from sklearn.metrics import plot_confusion_matrix\n",
    "\n",
    "from sklearn.tree import DecisionTreeClassifier\n",
    "\n",
    "\n",
    "import warnings\n",
    "import shap\n",
    "import optuna"
   ]
  },
  {
   "cell_type": "markdown",
   "id": "double-logging",
   "metadata": {},
   "source": [
    "## Display Features"
   ]
  },
  {
   "cell_type": "code",
   "execution_count": 4,
   "id": "driven-element",
   "metadata": {},
   "outputs": [],
   "source": [
    "%matplotlib inline\n",
    "pd.options.display.max_rows = 300000\n",
    "pd.options.display.max_columns = 999\n",
    "pd.options.display.max_colwidth = 500\n",
    "warnings.filterwarnings(\"ignore\")"
   ]
  },
  {
   "cell_type": "markdown",
   "id": "political-officer",
   "metadata": {},
   "source": [
    "## Colors"
   ]
  },
  {
   "cell_type": "code",
   "execution_count": 5,
   "id": "acquired-union",
   "metadata": {},
   "outputs": [],
   "source": [
    "color_1 = \"bisque\"\n",
    "color_2 = \"crimson\"\n",
    "color_3 = \"orangered\"\n",
    "color_4 = \"lightcoral\"\n",
    "color_5 = \"royalblue\"\n",
    "color_6 = \"pink\"\n",
    "color_7 = \"indianred\"\n",
    "color_8 = \"slategrey\"\n",
    "color_9 = \"salmon\"\n",
    "color_10 = \"beige\"\n",
    "color_11 = \"coral\"\n",
    "color_13 = \"grey\"\n",
    "color_14 = \"tan\"\n",
    "color_15 = \"wheat\"\n",
    "color_16 = \"tomato\""
   ]
  },
  {
   "cell_type": "markdown",
   "id": "incredible-stupid",
   "metadata": {},
   "source": [
    "## Figure Parameters"
   ]
  },
  {
   "cell_type": "code",
   "execution_count": 6,
   "id": "secret-canadian",
   "metadata": {},
   "outputs": [],
   "source": [
    "size = 20\n",
    "\n",
    "params = {\n",
    "    \"font.family\": \"Times New Roman\",\n",
    "    \"font.size\": size,\n",
    "    \"axes.labelsize\": size,\n",
    "    \"xtick.labelsize\": size * 0.75,\n",
    "    \"ytick.labelsize\": size * 0.75,\n",
    "    \"figure.titlesize\": size * 1.5,\n",
    "    \"axes.titlesize\": size * 1.5,\n",
    "    \"axes.titlepad\": size,\n",
    "    \"axes.labelpad\": size - 10,\n",
    "    \"lines.linewidth\": 2,\n",
    "    \"axes.spines.top\": False,\n",
    "    \"axes.spines.right\": False,\n",
    "    \"axes.spines.left\": False,\n",
    "    \"axes.spines.bottom\": False,\n",
    "    \"legend.fontsize\": size,\n",
    "}"
   ]
  },
  {
   "cell_type": "markdown",
   "id": "75b82b1a",
   "metadata": {},
   "source": [
    "# Standards"
   ]
  },
  {
   "cell_type": "markdown",
   "id": "c84c9b4e",
   "metadata": {},
   "source": [
    "Below is a summary of the standards I followed and my assumptions related to this project. "
   ]
  },
  {
   "cell_type": "markdown",
   "id": "257dce32",
   "metadata": {},
   "source": [
    ">* **Standard 1:** My standard for an acceptable accuracy Score for wins is 75%. <BR>"
   ]
  },
  {
   "cell_type": "markdown",
   "id": "8b50a1f8",
   "metadata": {},
   "source": [
    "# Load Data"
   ]
  },
  {
   "cell_type": "code",
   "execution_count": 7,
   "id": "e358ddcd",
   "metadata": {},
   "outputs": [],
   "source": [
    "insurance = pd.read_csv(\n",
    "    \"C:\\\\Users\\\\Space\\\\Documents\\\\py\\\\Projects\\\\TuringCollege\\\\Insurance\\\\DataSet\\\\Insurance.csv\",\n",
    "    index_col=0,\n",
    ")"
   ]
  },
  {
   "cell_type": "code",
   "execution_count": 8,
   "id": "32a4cadf",
   "metadata": {},
   "outputs": [],
   "source": [
    "insurance = insurance.rename(columns={'Employment Type':'EmploymentType', 'GraduateOrNot':'Graduate',\n",
    "                   'EverTravelledAbroad':'TravelledAbroad'})"
   ]
  },
  {
   "cell_type": "code",
   "execution_count": 9,
   "id": "c6de3276",
   "metadata": {
    "scrolled": false
   },
   "outputs": [
    {
     "data": {
      "text/html": [
       "<div>\n",
       "<style scoped>\n",
       "    .dataframe tbody tr th:only-of-type {\n",
       "        vertical-align: middle;\n",
       "    }\n",
       "\n",
       "    .dataframe tbody tr th {\n",
       "        vertical-align: top;\n",
       "    }\n",
       "\n",
       "    .dataframe thead th {\n",
       "        text-align: right;\n",
       "    }\n",
       "</style>\n",
       "<table border=\"1\" class=\"dataframe\">\n",
       "  <thead>\n",
       "    <tr style=\"text-align: right;\">\n",
       "      <th></th>\n",
       "      <th>Age</th>\n",
       "      <th>EmploymentType</th>\n",
       "      <th>Graduate</th>\n",
       "      <th>AnnualIncome</th>\n",
       "      <th>FamilyMembers</th>\n",
       "      <th>ChronicDiseases</th>\n",
       "      <th>FrequentFlyer</th>\n",
       "      <th>TravelledAbroad</th>\n",
       "      <th>TravelInsurance</th>\n",
       "    </tr>\n",
       "  </thead>\n",
       "  <tbody>\n",
       "    <tr>\n",
       "      <th>0</th>\n",
       "      <td>31</td>\n",
       "      <td>Government Sector</td>\n",
       "      <td>Yes</td>\n",
       "      <td>400000</td>\n",
       "      <td>6</td>\n",
       "      <td>1</td>\n",
       "      <td>No</td>\n",
       "      <td>No</td>\n",
       "      <td>0</td>\n",
       "    </tr>\n",
       "    <tr>\n",
       "      <th>1</th>\n",
       "      <td>31</td>\n",
       "      <td>Private Sector/Self Employed</td>\n",
       "      <td>Yes</td>\n",
       "      <td>1250000</td>\n",
       "      <td>7</td>\n",
       "      <td>0</td>\n",
       "      <td>No</td>\n",
       "      <td>No</td>\n",
       "      <td>0</td>\n",
       "    </tr>\n",
       "    <tr>\n",
       "      <th>2</th>\n",
       "      <td>34</td>\n",
       "      <td>Private Sector/Self Employed</td>\n",
       "      <td>Yes</td>\n",
       "      <td>500000</td>\n",
       "      <td>4</td>\n",
       "      <td>1</td>\n",
       "      <td>No</td>\n",
       "      <td>No</td>\n",
       "      <td>1</td>\n",
       "    </tr>\n",
       "    <tr>\n",
       "      <th>3</th>\n",
       "      <td>28</td>\n",
       "      <td>Private Sector/Self Employed</td>\n",
       "      <td>Yes</td>\n",
       "      <td>700000</td>\n",
       "      <td>3</td>\n",
       "      <td>1</td>\n",
       "      <td>No</td>\n",
       "      <td>No</td>\n",
       "      <td>0</td>\n",
       "    </tr>\n",
       "    <tr>\n",
       "      <th>4</th>\n",
       "      <td>28</td>\n",
       "      <td>Private Sector/Self Employed</td>\n",
       "      <td>Yes</td>\n",
       "      <td>700000</td>\n",
       "      <td>8</td>\n",
       "      <td>1</td>\n",
       "      <td>Yes</td>\n",
       "      <td>No</td>\n",
       "      <td>0</td>\n",
       "    </tr>\n",
       "  </tbody>\n",
       "</table>\n",
       "</div>"
      ],
      "text/plain": [
       "   Age                EmploymentType Graduate  AnnualIncome  FamilyMembers  \\\n",
       "0   31             Government Sector      Yes        400000              6   \n",
       "1   31  Private Sector/Self Employed      Yes       1250000              7   \n",
       "2   34  Private Sector/Self Employed      Yes        500000              4   \n",
       "3   28  Private Sector/Self Employed      Yes        700000              3   \n",
       "4   28  Private Sector/Self Employed      Yes        700000              8   \n",
       "\n",
       "   ChronicDiseases FrequentFlyer TravelledAbroad  TravelInsurance  \n",
       "0                1            No              No                0  \n",
       "1                0            No              No                0  \n",
       "2                1            No              No                1  \n",
       "3                1            No              No                0  \n",
       "4                1           Yes              No                0  "
      ]
     },
     "execution_count": 9,
     "metadata": {},
     "output_type": "execute_result"
    }
   ],
   "source": [
    "insurance.head()"
   ]
  },
  {
   "cell_type": "code",
   "execution_count": 10,
   "id": "1a2378ff",
   "metadata": {},
   "outputs": [
    {
     "data": {
      "text/plain": [
       "1987"
      ]
     },
     "execution_count": 10,
     "metadata": {},
     "output_type": "execute_result"
    }
   ],
   "source": [
    "insurance.shape[0]"
   ]
  },
  {
   "cell_type": "code",
   "execution_count": 11,
   "id": "9ee6e928",
   "metadata": {},
   "outputs": [
    {
     "data": {
      "text/plain": [
       "array([25, 26, 27, 28, 29, 30, 31, 32, 33, 34, 35], dtype=int64)"
      ]
     },
     "execution_count": 11,
     "metadata": {},
     "output_type": "execute_result"
    }
   ],
   "source": [
    "insurance.Age.sort_values().unique()"
   ]
  },
  {
   "cell_type": "code",
   "execution_count": 12,
   "id": "789619b0",
   "metadata": {},
   "outputs": [
    {
     "data": {
      "text/plain": [
       "array(['Government Sector', 'Private Sector/Self Employed'], dtype=object)"
      ]
     },
     "execution_count": 12,
     "metadata": {},
     "output_type": "execute_result"
    }
   ],
   "source": [
    "insurance.EmploymentType.unique()"
   ]
  },
  {
   "cell_type": "code",
   "execution_count": 13,
   "id": "2bcdc8ac",
   "metadata": {},
   "outputs": [
    {
     "data": {
      "text/plain": [
       "array(['Yes', 'No'], dtype=object)"
      ]
     },
     "execution_count": 13,
     "metadata": {},
     "output_type": "execute_result"
    }
   ],
   "source": [
    "insurance.Graduate.unique()"
   ]
  },
  {
   "cell_type": "code",
   "execution_count": 14,
   "id": "aa71ba91",
   "metadata": {},
   "outputs": [
    {
     "data": {
      "text/plain": [
       "array([ 300000,  350000,  400000,  450000,  500000,  550000,  600000,\n",
       "        650000,  700000,  750000,  800000,  850000,  900000,  950000,\n",
       "       1000000, 1050000, 1100000, 1150000, 1200000, 1250000, 1300000,\n",
       "       1350000, 1400000, 1450000, 1500000, 1550000, 1650000, 1700000,\n",
       "       1750000, 1800000], dtype=int64)"
      ]
     },
     "execution_count": 14,
     "metadata": {},
     "output_type": "execute_result"
    }
   ],
   "source": [
    "sorted_unique = insurance.AnnualIncome.sort_values().unique()\n",
    "sorted_unique "
   ]
  },
  {
   "cell_type": "code",
   "execution_count": 15,
   "id": "aa8680bb",
   "metadata": {},
   "outputs": [
    {
     "data": {
      "text/plain": [
       "array([2, 3, 4, 5, 6, 7, 8, 9], dtype=int64)"
      ]
     },
     "execution_count": 15,
     "metadata": {},
     "output_type": "execute_result"
    }
   ],
   "source": [
    "insurance.FamilyMembers.sort_values().unique()\n"
   ]
  },
  {
   "cell_type": "code",
   "execution_count": 16,
   "id": "8b29ed84",
   "metadata": {},
   "outputs": [
    {
     "data": {
      "text/plain": [
       "array([1, 0], dtype=int64)"
      ]
     },
     "execution_count": 16,
     "metadata": {},
     "output_type": "execute_result"
    }
   ],
   "source": [
    "insurance.ChronicDiseases.unique()"
   ]
  },
  {
   "cell_type": "code",
   "execution_count": 17,
   "id": "d9d3cd78",
   "metadata": {},
   "outputs": [
    {
     "data": {
      "text/plain": [
       "array(['No', 'Yes'], dtype=object)"
      ]
     },
     "execution_count": 17,
     "metadata": {},
     "output_type": "execute_result"
    }
   ],
   "source": [
    "insurance.FrequentFlyer.unique()"
   ]
  },
  {
   "cell_type": "code",
   "execution_count": 18,
   "id": "e3317a9e",
   "metadata": {},
   "outputs": [
    {
     "data": {
      "text/plain": [
       "array(['No', 'Yes'], dtype=object)"
      ]
     },
     "execution_count": 18,
     "metadata": {},
     "output_type": "execute_result"
    }
   ],
   "source": [
    "insurance.TravelledAbroad.unique()"
   ]
  },
  {
   "cell_type": "code",
   "execution_count": 19,
   "id": "1cae8d8d",
   "metadata": {},
   "outputs": [
    {
     "data": {
      "text/plain": [
       "array([0, 1], dtype=int64)"
      ]
     },
     "execution_count": 19,
     "metadata": {},
     "output_type": "execute_result"
    }
   ],
   "source": [
    "insurance.TravelInsurance.unique()"
   ]
  },
  {
   "cell_type": "code",
   "execution_count": 20,
   "id": "c01bbdfc",
   "metadata": {},
   "outputs": [],
   "source": [
    "insurance = insurance.replace(['Yes'], 1)"
   ]
  },
  {
   "cell_type": "raw",
   "id": "46ef7ce4",
   "metadata": {},
   "source": [
    "insurance = insurance.replace(['No'], 0)"
   ]
  },
  {
   "cell_type": "code",
   "execution_count": 21,
   "id": "46fc6160",
   "metadata": {},
   "outputs": [
    {
     "data": {
      "text/plain": [
       "Age                0\n",
       "EmploymentType     0\n",
       "Graduate           0\n",
       "AnnualIncome       0\n",
       "FamilyMembers      0\n",
       "ChronicDiseases    0\n",
       "FrequentFlyer      0\n",
       "TravelledAbroad    0\n",
       "TravelInsurance    0\n",
       "dtype: int64"
      ]
     },
     "execution_count": 21,
     "metadata": {},
     "output_type": "execute_result"
    }
   ],
   "source": [
    "insurance.isnull().sum(axis=0)"
   ]
  },
  {
   "cell_type": "code",
   "execution_count": 22,
   "id": "e985cf27",
   "metadata": {},
   "outputs": [
    {
     "data": {
      "text/plain": [
       "Age                1987\n",
       "EmploymentType     1987\n",
       "Graduate           1987\n",
       "AnnualIncome       1987\n",
       "FamilyMembers      1987\n",
       "ChronicDiseases    1987\n",
       "FrequentFlyer      1987\n",
       "TravelledAbroad    1987\n",
       "TravelInsurance    1987\n",
       "dtype: int64"
      ]
     },
     "execution_count": 22,
     "metadata": {},
     "output_type": "execute_result"
    }
   ],
   "source": [
    "insurance.count()"
   ]
  },
  {
   "cell_type": "code",
   "execution_count": 23,
   "id": "9a2c55bb",
   "metadata": {},
   "outputs": [
    {
     "data": {
      "text/plain": [
       "Age                 int64\n",
       "EmploymentType     object\n",
       "Graduate           object\n",
       "AnnualIncome        int64\n",
       "FamilyMembers       int64\n",
       "ChronicDiseases     int64\n",
       "FrequentFlyer      object\n",
       "TravelledAbroad    object\n",
       "TravelInsurance     int64\n",
       "dtype: object"
      ]
     },
     "execution_count": 23,
     "metadata": {},
     "output_type": "execute_result"
    }
   ],
   "source": [
    "insurance.dtypes"
   ]
  },
  {
   "cell_type": "code",
   "execution_count": 24,
   "id": "39595eb9",
   "metadata": {},
   "outputs": [
    {
     "data": {
      "text/plain": [
       "<Axes: xlabel='Age', ylabel='count'>"
      ]
     },
     "execution_count": 24,
     "metadata": {},
     "output_type": "execute_result"
    },
    {
     "data": {
      "image/png": "[encoded data removed]",
      "text/plain": [
       "<Figure size 640x480 with 1 Axes>"
      ]
     },
     "metadata": {},
     "output_type": "display_data"
    }
   ],
   "source": [
    "sns.countplot( x = 'Age', data = insurance, palette=\"Blues\", order=insurance['Age'].value_counts().index)"
   ]
  },
  {
   "cell_type": "code",
   "execution_count": null,
   "id": "c0ba3661",
   "metadata": {},
   "outputs": [],
   "source": [
    "sns.countplot( x = 'EmploymentType', data = insurance, palette=\"Blues\", order=insurance['EmploymentType'].value_counts().index)"
   ]
  },
  {
   "cell_type": "code",
   "execution_count": null,
   "id": "5addc3ba",
   "metadata": {},
   "outputs": [],
   "source": [
    "sns.countplot( x = 'Graduate', data = insurance, palette=\"Blues\", order=insurance['Graduate'].value_counts().index)"
   ]
  },
  {
   "cell_type": "code",
   "execution_count": null,
   "id": "d310de4d",
   "metadata": {},
   "outputs": [],
   "source": [
    "plt.figure(figsize = (10, 6))\n",
    "sns.countplot(y = 'AnnualIncome', data = insurance, palette=\"Blues\")"
   ]
  },
  {
   "cell_type": "code",
   "execution_count": null,
   "id": "aa92ef46",
   "metadata": {},
   "outputs": [],
   "source": [
    "sns.countplot(x = 'FamilyMembers', data = insurance, palette=\"Blues\")"
   ]
  },
  {
   "cell_type": "code",
   "execution_count": null,
   "id": "effce419",
   "metadata": {},
   "outputs": [],
   "source": [
    "sns.countplot(x = 'ChronicDiseases', data = insurance, palette=\"Blues\")"
   ]
  },
  {
   "cell_type": "code",
   "execution_count": null,
   "id": "e1aba152",
   "metadata": {},
   "outputs": [],
   "source": [
    "sns.countplot(x = 'FrequentFlyer', data = insurance, palette=\"Blues\")"
   ]
  },
  {
   "cell_type": "code",
   "execution_count": null,
   "id": "c572ed47",
   "metadata": {},
   "outputs": [],
   "source": [
    "\n",
    "sns.countplot(x = 'TravelledAbroad', data = insurance, palette=\"Blues\")"
   ]
  },
  {
   "cell_type": "code",
   "execution_count": null,
   "id": "596aa0a4",
   "metadata": {
    "scrolled": false
   },
   "outputs": [],
   "source": [
    "sns.countplot(x = 'TravelInsurance', data = insurance, palette=\"Blues\")"
   ]
  },
  {
   "cell_type": "code",
   "execution_count": null,
   "id": "ad798991",
   "metadata": {},
   "outputs": [],
   "source": [
    "sns.countplot(\n",
    "    x=\"TravelInsurance\",\n",
    "    data=insurance,\n",
    "    palette=\"Blues\",\n",
    "    order=insurance[\"TravelInsurance\"].value_counts().index,\n",
    ")"
   ]
  },
  {
   "cell_type": "code",
   "execution_count": null,
   "id": "7d9218cf",
   "metadata": {},
   "outputs": [],
   "source": [
    "def create_heatmap(data, title):\n",
    "    \"\"\"\n",
    "    Creates a Seaborn heatmap.\n",
    "    \"\"\"\n",
    "\n",
    "    plt.rcParams.update(params)\n",
    "    corr = data.corr()\n",
    "\n",
    "    mask = np.triu(np.ones_like(corr, dtype=bool))\n",
    "\n",
    "    f, ax = plt.subplots(figsize=(10, 15))\n",
    "\n",
    "    cmap = sns.diverging_palette(230, 10, as_cmap=True)\n",
    "    heatmap = sns.heatmap(\n",
    "        corr,\n",
    "        mask=mask,\n",
    "        cmap=cmap,\n",
    "        vmax=1,\n",
    "        vmin=-1,\n",
    "        center=0,\n",
    "        square=True,\n",
    "        linewidths=0.5,\n",
    "        cbar_kws={\"shrink\": 0.5},\n",
    "        annot=True,\n",
    "    )\n",
    "\n",
    "    heatmap.set_title(\n",
    "        title,\n",
    "        fontdict={\"fontsize\": size},\n",
    "        pad=12,\n",
    "    )\n",
    "    plt.xlabel(\"\")\n",
    "    plt.ylabel(\"\")"
   ]
  },
  {
   "cell_type": "code",
   "execution_count": null,
   "id": "35d40ffc",
   "metadata": {},
   "outputs": [],
   "source": [
    "data = insurance\n",
    "title = \"Correlation of Features in the Travel Insurance Database\"\n",
    "create_heatmap(data, title)"
   ]
  },
  {
   "cell_type": "code",
   "execution_count": null,
   "id": "2f0de5b8",
   "metadata": {
    "scrolled": true
   },
   "outputs": [],
   "source": [
    "corr_matrix = insurance.corr(numeric_only=True)\n",
    "corr_matrix[\"TravelInsurance\"].sort_values(ascending=False)"
   ]
  },
  {
   "cell_type": "markdown",
   "id": "e93375a1",
   "metadata": {},
   "source": [
    "# Logistic Regression"
   ]
  },
  {
   "cell_type": "code",
   "execution_count": 25,
   "id": "2bf28542",
   "metadata": {},
   "outputs": [
    {
     "ename": "TypeError",
     "evalue": "Encoders require their input to be uniformly strings or numbers. Got ['int', 'str']",
     "output_type": "error",
     "traceback": [
      "\u001b[1;31m---------------------------------------------------------------------------\u001b[0m",
      "\u001b[1;31mTypeError\u001b[0m                                 Traceback (most recent call last)",
      "File \u001b[1;32m~\\AppData\\Local\\Programs\\Python\\Python310\\lib\\site-packages\\sklearn\\utils\\_encode.py:173\u001b[0m, in \u001b[0;36m_unique_python\u001b[1;34m(values, return_inverse, return_counts)\u001b[0m\n\u001b[0;32m    171\u001b[0m uniques_set, missing_values \u001b[38;5;241m=\u001b[39m _extract_missing(uniques_set)\n\u001b[1;32m--> 173\u001b[0m uniques \u001b[38;5;241m=\u001b[39m \u001b[38;5;28;43msorted\u001b[39;49m\u001b[43m(\u001b[49m\u001b[43muniques_set\u001b[49m\u001b[43m)\u001b[49m\n\u001b[0;32m    174\u001b[0m uniques\u001b[38;5;241m.\u001b[39mextend(missing_values\u001b[38;5;241m.\u001b[39mto_list())\n",
      "\u001b[1;31mTypeError\u001b[0m: '<' not supported between instances of 'int' and 'str'",
      "\nDuring handling of the above exception, another exception occurred:\n",
      "\u001b[1;31mTypeError\u001b[0m                                 Traceback (most recent call last)",
      "Cell \u001b[1;32mIn [25], line 5\u001b[0m\n\u001b[0;32m      2\u001b[0m obj \u001b[38;5;241m=\u001b[39m (insurance\u001b[38;5;241m.\u001b[39mdtypes \u001b[38;5;241m==\u001b[39m \u001b[38;5;124m'\u001b[39m\u001b[38;5;124mobject\u001b[39m\u001b[38;5;124m'\u001b[39m)\n\u001b[0;32m      4\u001b[0m \u001b[38;5;28;01mfor\u001b[39;00m col \u001b[38;5;129;01min\u001b[39;00m \u001b[38;5;28mlist\u001b[39m(obj[obj]\u001b[38;5;241m.\u001b[39mindex):\n\u001b[1;32m----> 5\u001b[0m     insurance[col] \u001b[38;5;241m=\u001b[39m \u001b[43mlabel_encoder\u001b[49m\u001b[38;5;241;43m.\u001b[39;49m\u001b[43mfit_transform\u001b[49m\u001b[43m(\u001b[49m\u001b[43minsurance\u001b[49m\u001b[43m[\u001b[49m\u001b[43mcol\u001b[49m\u001b[43m]\u001b[49m\u001b[43m)\u001b[49m\n",
      "File \u001b[1;32m~\\AppData\\Local\\Programs\\Python\\Python310\\lib\\site-packages\\sklearn\\preprocessing\\_label.py:116\u001b[0m, in \u001b[0;36mLabelEncoder.fit_transform\u001b[1;34m(self, y)\u001b[0m\n\u001b[0;32m    103\u001b[0m \u001b[38;5;124;03m\"\"\"Fit label encoder and return encoded labels.\u001b[39;00m\n\u001b[0;32m    104\u001b[0m \n\u001b[0;32m    105\u001b[0m \u001b[38;5;124;03mParameters\u001b[39;00m\n\u001b[1;32m   (...)\u001b[0m\n\u001b[0;32m    113\u001b[0m \u001b[38;5;124;03m    Encoded labels.\u001b[39;00m\n\u001b[0;32m    114\u001b[0m \u001b[38;5;124;03m\"\"\"\u001b[39;00m\n\u001b[0;32m    115\u001b[0m y \u001b[38;5;241m=\u001b[39m column_or_1d(y, warn\u001b[38;5;241m=\u001b[39m\u001b[38;5;28;01mTrue\u001b[39;00m)\n\u001b[1;32m--> 116\u001b[0m \u001b[38;5;28mself\u001b[39m\u001b[38;5;241m.\u001b[39mclasses_, y \u001b[38;5;241m=\u001b[39m \u001b[43m_unique\u001b[49m\u001b[43m(\u001b[49m\u001b[43my\u001b[49m\u001b[43m,\u001b[49m\u001b[43m \u001b[49m\u001b[43mreturn_inverse\u001b[49m\u001b[38;5;241;43m=\u001b[39;49m\u001b[38;5;28;43;01mTrue\u001b[39;49;00m\u001b[43m)\u001b[49m\n\u001b[0;32m    117\u001b[0m \u001b[38;5;28;01mreturn\u001b[39;00m y\n",
      "File \u001b[1;32m~\\AppData\\Local\\Programs\\Python\\Python310\\lib\\site-packages\\sklearn\\utils\\_encode.py:41\u001b[0m, in \u001b[0;36m_unique\u001b[1;34m(values, return_inverse, return_counts)\u001b[0m\n\u001b[0;32m     10\u001b[0m \u001b[38;5;124;03m\"\"\"Helper function to find unique values with support for python objects.\u001b[39;00m\n\u001b[0;32m     11\u001b[0m \n\u001b[0;32m     12\u001b[0m \u001b[38;5;124;03mUses pure python method for object dtype, and numpy method for\u001b[39;00m\n\u001b[1;32m   (...)\u001b[0m\n\u001b[0;32m     38\u001b[0m \u001b[38;5;124;03m    array. Only provided if `return_counts` is True.\u001b[39;00m\n\u001b[0;32m     39\u001b[0m \u001b[38;5;124;03m\"\"\"\u001b[39;00m\n\u001b[0;32m     40\u001b[0m \u001b[38;5;28;01mif\u001b[39;00m values\u001b[38;5;241m.\u001b[39mdtype \u001b[38;5;241m==\u001b[39m \u001b[38;5;28mobject\u001b[39m:\n\u001b[1;32m---> 41\u001b[0m     \u001b[38;5;28;01mreturn\u001b[39;00m \u001b[43m_unique_python\u001b[49m\u001b[43m(\u001b[49m\n\u001b[0;32m     42\u001b[0m \u001b[43m        \u001b[49m\u001b[43mvalues\u001b[49m\u001b[43m,\u001b[49m\u001b[43m \u001b[49m\u001b[43mreturn_inverse\u001b[49m\u001b[38;5;241;43m=\u001b[39;49m\u001b[43mreturn_inverse\u001b[49m\u001b[43m,\u001b[49m\u001b[43m \u001b[49m\u001b[43mreturn_counts\u001b[49m\u001b[38;5;241;43m=\u001b[39;49m\u001b[43mreturn_counts\u001b[49m\n\u001b[0;32m     43\u001b[0m \u001b[43m    \u001b[49m\u001b[43m)\u001b[49m\n\u001b[0;32m     44\u001b[0m \u001b[38;5;66;03m# numerical\u001b[39;00m\n\u001b[0;32m     45\u001b[0m \u001b[38;5;28;01mreturn\u001b[39;00m _unique_np(\n\u001b[0;32m     46\u001b[0m     values, return_inverse\u001b[38;5;241m=\u001b[39mreturn_inverse, return_counts\u001b[38;5;241m=\u001b[39mreturn_counts\n\u001b[0;32m     47\u001b[0m )\n",
      "File \u001b[1;32m~\\AppData\\Local\\Programs\\Python\\Python310\\lib\\site-packages\\sklearn\\utils\\_encode.py:178\u001b[0m, in \u001b[0;36m_unique_python\u001b[1;34m(values, return_inverse, return_counts)\u001b[0m\n\u001b[0;32m    176\u001b[0m \u001b[38;5;28;01mexcept\u001b[39;00m \u001b[38;5;167;01mTypeError\u001b[39;00m:\n\u001b[0;32m    177\u001b[0m     types \u001b[38;5;241m=\u001b[39m \u001b[38;5;28msorted\u001b[39m(t\u001b[38;5;241m.\u001b[39m\u001b[38;5;18m__qualname__\u001b[39m \u001b[38;5;28;01mfor\u001b[39;00m t \u001b[38;5;129;01min\u001b[39;00m \u001b[38;5;28mset\u001b[39m(\u001b[38;5;28mtype\u001b[39m(v) \u001b[38;5;28;01mfor\u001b[39;00m v \u001b[38;5;129;01min\u001b[39;00m values))\n\u001b[1;32m--> 178\u001b[0m     \u001b[38;5;28;01mraise\u001b[39;00m \u001b[38;5;167;01mTypeError\u001b[39;00m(\n\u001b[0;32m    179\u001b[0m         \u001b[38;5;124m\"\u001b[39m\u001b[38;5;124mEncoders require their input to be uniformly \u001b[39m\u001b[38;5;124m\"\u001b[39m\n\u001b[0;32m    180\u001b[0m         \u001b[38;5;124mf\u001b[39m\u001b[38;5;124m\"\u001b[39m\u001b[38;5;124mstrings or numbers. Got \u001b[39m\u001b[38;5;132;01m{\u001b[39;00mtypes\u001b[38;5;132;01m}\u001b[39;00m\u001b[38;5;124m\"\u001b[39m\n\u001b[0;32m    181\u001b[0m     )\n\u001b[0;32m    182\u001b[0m ret \u001b[38;5;241m=\u001b[39m (uniques,)\n\u001b[0;32m    184\u001b[0m \u001b[38;5;28;01mif\u001b[39;00m return_inverse:\n",
      "\u001b[1;31mTypeError\u001b[0m: Encoders require their input to be uniformly strings or numbers. Got ['int', 'str']"
     ]
    }
   ],
   "source": [
    "label_encoder = LabelEncoder()\n",
    "obj = (insurance.dtypes == 'object')\n",
    "\n",
    "for col in list(obj[obj].index):\n",
    "    insurance[col] = label_encoder.fit_transform(insurance[col])"
   ]
  },
  {
   "cell_type": "code",
   "execution_count": null,
   "id": "7cf1496f",
   "metadata": {},
   "outputs": [],
   "source": [
    "X = insurance.drop(\"TravelInsurance\", axis=1)\n",
    "y = insurance[\"TravelInsurance\"] "
   ]
  },
  {
   "cell_type": "code",
   "execution_count": null,
   "id": "4c35a2e1",
   "metadata": {},
   "outputs": [],
   "source": [
    "X_train, X_test, y_train, y_test = train_test_split(X, y, test_size=0.2, random_state=101)"
   ]
  },
  {
   "cell_type": "code",
   "execution_count": null,
   "id": "f23aa3d4",
   "metadata": {},
   "outputs": [],
   "source": [
    "logisticregression = LogisticRegression()\n",
    "logisticregression.fit(X_train, y_train)"
   ]
  },
  {
   "cell_type": "code",
   "execution_count": null,
   "id": "4b4ddbd9",
   "metadata": {},
   "outputs": [],
   "source": [
    "y_predict = logisticregression.predict(X_test)"
   ]
  },
  {
   "cell_type": "code",
   "execution_count": null,
   "id": "c94e10e4",
   "metadata": {},
   "outputs": [],
   "source": [
    "print(classification_report(y_test, y_predict))"
   ]
  },
  {
   "cell_type": "code",
   "execution_count": null,
   "id": "b45a0ee7",
   "metadata": {},
   "outputs": [],
   "source": [
    "plot_confusion_matrix(logisticregression,X_test,y_test, cmap=plt.cm.Blues)\n",
    "plt.xticks([0,1],['Yes', 'No'])\n",
    "plt.yticks([0,1], ['Yes', 'No']);"
   ]
  },
  {
   "cell_type": "markdown",
   "id": "188e55c6",
   "metadata": {},
   "source": [
    "# Decision Tree"
   ]
  },
  {
   "cell_type": "code",
   "execution_count": 103,
   "id": "3f9772b1",
   "metadata": {},
   "outputs": [
    {
     "data": {
      "text/html": [
       "<style>#sk-container-id-13 {color: black;background-color: white;}#sk-container-id-13 pre{padding: 0;}#sk-container-id-13 div.sk-toggleable {background-color: white;}#sk-container-id-13 label.sk-toggleable__label {cursor: pointer;display: block;width: 100%;margin-bottom: 0;padding: 0.3em;box-sizing: border-box;text-align: center;}#sk-container-id-13 label.sk-toggleable__label-arrow:before {content: \"▸\";float: left;margin-right: 0.25em;color: #696969;}#sk-container-id-13 label.sk-toggleable__label-arrow:hover:before {color: black;}#sk-container-id-13 div.sk-estimator:hover label.sk-toggleable__label-arrow:before {color: black;}#sk-container-id-13 div.sk-toggleable__content {max-height: 0;max-width: 0;overflow: hidden;text-align: left;background-color: #f0f8ff;}#sk-container-id-13 div.sk-toggleable__content pre {margin: 0.2em;color: black;border-radius: 0.25em;background-color: #f0f8ff;}#sk-container-id-13 input.sk-toggleable__control:checked~div.sk-toggleable__content {max-height: 200px;max-width: 100%;overflow: auto;}#sk-container-id-13 input.sk-toggleable__control:checked~label.sk-toggleable__label-arrow:before {content: \"▾\";}#sk-container-id-13 div.sk-estimator input.sk-toggleable__control:checked~label.sk-toggleable__label {background-color: #d4ebff;}#sk-container-id-13 div.sk-label input.sk-toggleable__control:checked~label.sk-toggleable__label {background-color: #d4ebff;}#sk-container-id-13 input.sk-hidden--visually {border: 0;clip: rect(1px 1px 1px 1px);clip: rect(1px, 1px, 1px, 1px);height: 1px;margin: -1px;overflow: hidden;padding: 0;position: absolute;width: 1px;}#sk-container-id-13 div.sk-estimator {font-family: monospace;background-color: #f0f8ff;border: 1px dotted black;border-radius: 0.25em;box-sizing: border-box;margin-bottom: 0.5em;}#sk-container-id-13 div.sk-estimator:hover {background-color: #d4ebff;}#sk-container-id-13 div.sk-parallel-item::after {content: \"\";width: 100%;border-bottom: 1px solid gray;flex-grow: 1;}#sk-container-id-13 div.sk-label:hover label.sk-toggleable__label {background-color: #d4ebff;}#sk-container-id-13 div.sk-serial::before {content: \"\";position: absolute;border-left: 1px solid gray;box-sizing: border-box;top: 0;bottom: 0;left: 50%;z-index: 0;}#sk-container-id-13 div.sk-serial {display: flex;flex-direction: column;align-items: center;background-color: white;padding-right: 0.2em;padding-left: 0.2em;position: relative;}#sk-container-id-13 div.sk-item {position: relative;z-index: 1;}#sk-container-id-13 div.sk-parallel {display: flex;align-items: stretch;justify-content: center;background-color: white;position: relative;}#sk-container-id-13 div.sk-item::before, #sk-container-id-13 div.sk-parallel-item::before {content: \"\";position: absolute;border-left: 1px solid gray;box-sizing: border-box;top: 0;bottom: 0;left: 50%;z-index: -1;}#sk-container-id-13 div.sk-parallel-item {display: flex;flex-direction: column;z-index: 1;position: relative;background-color: white;}#sk-container-id-13 div.sk-parallel-item:first-child::after {align-self: flex-end;width: 50%;}#sk-container-id-13 div.sk-parallel-item:last-child::after {align-self: flex-start;width: 50%;}#sk-container-id-13 div.sk-parallel-item:only-child::after {width: 0;}#sk-container-id-13 div.sk-dashed-wrapped {border: 1px dashed gray;margin: 0 0.4em 0.5em 0.4em;box-sizing: border-box;padding-bottom: 0.4em;background-color: white;}#sk-container-id-13 div.sk-label label {font-family: monospace;font-weight: bold;display: inline-block;line-height: 1.2em;}#sk-container-id-13 div.sk-label-container {text-align: center;}#sk-container-id-13 div.sk-container {/* jupyter's `normalize.less` sets `[hidden] { display: none; }` but bootstrap.min.css set `[hidden] { display: none !important; }` so we also need the `!important` here to be able to override the default hidden behavior on the sphinx rendered scikit-learn.org. See: https://github.com/scikit-learn/scikit-learn/issues/21755 */display: inline-block !important;position: relative;}#sk-container-id-13 div.sk-text-repr-fallback {display: none;}</style><div id=\"sk-container-id-13\" class=\"sk-top-container\"><div class=\"sk-text-repr-fallback\"><pre>DecisionTreeClassifier()</pre><b>In a Jupyter environment, please rerun this cell to show the HTML representation or trust the notebook. <br />On GitHub, the HTML representation is unable to render, please try loading this page with nbviewer.org.</b></div><div class=\"sk-container\" hidden><div class=\"sk-item\"><div class=\"sk-estimator sk-toggleable\"><input class=\"sk-toggleable__control sk-hidden--visually\" id=\"sk-estimator-id-13\" type=\"checkbox\" checked><label for=\"sk-estimator-id-13\" class=\"sk-toggleable__label sk-toggleable__label-arrow\">DecisionTreeClassifier</label><div class=\"sk-toggleable__content\"><pre>DecisionTreeClassifier()</pre></div></div></div></div></div>"
      ],
      "text/plain": [
       "DecisionTreeClassifier()"
      ]
     },
     "execution_count": 103,
     "metadata": {},
     "output_type": "execute_result"
    }
   ],
   "source": [
    "decisiontree = DecisionTreeClassifier()\n",
    "decisiontree.fit(X_train, y_train)"
   ]
  },
  {
   "cell_type": "code",
   "execution_count": 104,
   "id": "45796a4f",
   "metadata": {},
   "outputs": [],
   "source": [
    "y_predict = decisiontree.predict(X_test)"
   ]
  },
  {
   "cell_type": "code",
   "execution_count": 105,
   "id": "54755e9a",
   "metadata": {},
   "outputs": [
    {
     "name": "stdout",
     "output_type": "stream",
     "text": [
      "              precision    recall  f1-score   support\n",
      "\n",
      "           0       0.79      0.88      0.83       258\n",
      "           1       0.72      0.58      0.64       140\n",
      "\n",
      "    accuracy                           0.77       398\n",
      "   macro avg       0.76      0.73      0.74       398\n",
      "weighted avg       0.77      0.77      0.77       398\n",
      "\n"
     ]
    }
   ],
   "source": [
    "print(classification_report(y_test, y_predict))"
   ]
  },
  {
   "cell_type": "code",
   "execution_count": 106,
   "id": "4dec6593",
   "metadata": {},
   "outputs": [
    {
     "data": {
      "image/png": "[encoded data removed]",
      "text/plain": [
       "<Figure size 640x480 with 2 Axes>"
      ]
     },
     "metadata": {},
     "output_type": "display_data"
    }
   ],
   "source": [
    "plot_confusion_matrix(decisiontree,X_test,y_test, cmap=plt.cm.Blues)\n",
    "plt.xticks([0,1],['Yes', 'No'])\n",
    "plt.yticks([0,1], ['Yes', 'No']);"
   ]
  },
  {
   "cell_type": "markdown",
   "id": "8fecd0da",
   "metadata": {},
   "source": [
    "# KNN"
   ]
  },
  {
   "cell_type": "code",
   "execution_count": null,
   "id": "4cd92fc6",
   "metadata": {},
   "outputs": [],
   "source": [
    "from sklearn.neighbors import KNeighborsClassifier\n",
    "\n",
    "\n",
    "knn = KNeighborsClassifier(n_neighbors=3)\n",
    "knn.fit(X_train, y_train)"
   ]
  },
  {
   "cell_type": "code",
   "execution_count": null,
   "id": "fe1fff28",
   "metadata": {},
   "outputs": [],
   "source": [
    "y_predict = decisiontree.predict(X_test)"
   ]
  },
  {
   "cell_type": "code",
   "execution_count": null,
   "id": "5d2196f2",
   "metadata": {},
   "outputs": [],
   "source": [
    "print(classification_report(y_test, y_predict))"
   ]
  },
  {
   "cell_type": "code",
   "execution_count": null,
   "id": "0f11557c",
   "metadata": {
    "scrolled": true
   },
   "outputs": [],
   "source": [
    "plot_confusion_matrix(knn,X_test,y_test, cmap=plt.cm.Blues)\n",
    "plt.xticks([0,1],['Yes', 'No'])\n",
    "plt.yticks([0,1], ['Yes', 'No']);"
   ]
  },
  {
   "cell_type": "markdown",
   "id": "8c6e44a0",
   "metadata": {},
   "source": [
    "# SHAP"
   ]
  },
  {
   "cell_type": "code",
   "execution_count": 116,
   "id": "d2ba07cb",
   "metadata": {
    "scrolled": false
   },
   "outputs": [
    {
     "data": {
      "image/png": "[encoded data removed]",
      "text/plain": [
       "<Figure size 800x270 with 1 Axes>"
      ]
     },
     "metadata": {},
     "output_type": "display_data"
    }
   ],
   "source": [
    "# Initialize the explainer with the training data\n",
    "explainer = shap.TreeExplainer(decisiontree)\n",
    "\n",
    "shap_values = explainer.shap_values(X_test)\n",
    "shap.summary_plot(shap_values[0], X_test, plot_type=\"bar\")\n",
    "plt.show()"
   ]
  },
  {
   "cell_type": "markdown",
   "id": "25970c95",
   "metadata": {},
   "source": [
    "# Important Features"
   ]
  },
  {
   "cell_type": "code",
   "execution_count": 175,
   "id": "971ff6a7",
   "metadata": {},
   "outputs": [],
   "source": [
    "X = insurance [[\"AnnualIncome\", \"Age\", \"FamilyMembers\"]]"
   ]
  },
  {
   "cell_type": "markdown",
   "id": "f86ac223",
   "metadata": {},
   "source": [
    "# Logistic Regression with SHAP"
   ]
  },
  {
   "cell_type": "code",
   "execution_count": 176,
   "id": "93ab323c",
   "metadata": {},
   "outputs": [],
   "source": [
    "X_train, X_test, y_train, y_test = train_test_split(X, y, test_size=0.2, random_state=101)"
   ]
  },
  {
   "cell_type": "code",
   "execution_count": 177,
   "id": "1258d754",
   "metadata": {},
   "outputs": [
    {
     "data": {
      "text/html": [
       "<style>#sk-container-id-28 {color: black;background-color: white;}#sk-container-id-28 pre{padding: 0;}#sk-container-id-28 div.sk-toggleable {background-color: white;}#sk-container-id-28 label.sk-toggleable__label {cursor: pointer;display: block;width: 100%;margin-bottom: 0;padding: 0.3em;box-sizing: border-box;text-align: center;}#sk-container-id-28 label.sk-toggleable__label-arrow:before {content: \"▸\";float: left;margin-right: 0.25em;color: #696969;}#sk-container-id-28 label.sk-toggleable__label-arrow:hover:before {color: black;}#sk-container-id-28 div.sk-estimator:hover label.sk-toggleable__label-arrow:before {color: black;}#sk-container-id-28 div.sk-toggleable__content {max-height: 0;max-width: 0;overflow: hidden;text-align: left;background-color: #f0f8ff;}#sk-container-id-28 div.sk-toggleable__content pre {margin: 0.2em;color: black;border-radius: 0.25em;background-color: #f0f8ff;}#sk-container-id-28 input.sk-toggleable__control:checked~div.sk-toggleable__content {max-height: 200px;max-width: 100%;overflow: auto;}#sk-container-id-28 input.sk-toggleable__control:checked~label.sk-toggleable__label-arrow:before {content: \"▾\";}#sk-container-id-28 div.sk-estimator input.sk-toggleable__control:checked~label.sk-toggleable__label {background-color: #d4ebff;}#sk-container-id-28 div.sk-label input.sk-toggleable__control:checked~label.sk-toggleable__label {background-color: #d4ebff;}#sk-container-id-28 input.sk-hidden--visually {border: 0;clip: rect(1px 1px 1px 1px);clip: rect(1px, 1px, 1px, 1px);height: 1px;margin: -1px;overflow: hidden;padding: 0;position: absolute;width: 1px;}#sk-container-id-28 div.sk-estimator {font-family: monospace;background-color: #f0f8ff;border: 1px dotted black;border-radius: 0.25em;box-sizing: border-box;margin-bottom: 0.5em;}#sk-container-id-28 div.sk-estimator:hover {background-color: #d4ebff;}#sk-container-id-28 div.sk-parallel-item::after {content: \"\";width: 100%;border-bottom: 1px solid gray;flex-grow: 1;}#sk-container-id-28 div.sk-label:hover label.sk-toggleable__label {background-color: #d4ebff;}#sk-container-id-28 div.sk-serial::before {content: \"\";position: absolute;border-left: 1px solid gray;box-sizing: border-box;top: 0;bottom: 0;left: 50%;z-index: 0;}#sk-container-id-28 div.sk-serial {display: flex;flex-direction: column;align-items: center;background-color: white;padding-right: 0.2em;padding-left: 0.2em;position: relative;}#sk-container-id-28 div.sk-item {position: relative;z-index: 1;}#sk-container-id-28 div.sk-parallel {display: flex;align-items: stretch;justify-content: center;background-color: white;position: relative;}#sk-container-id-28 div.sk-item::before, #sk-container-id-28 div.sk-parallel-item::before {content: \"\";position: absolute;border-left: 1px solid gray;box-sizing: border-box;top: 0;bottom: 0;left: 50%;z-index: -1;}#sk-container-id-28 div.sk-parallel-item {display: flex;flex-direction: column;z-index: 1;position: relative;background-color: white;}#sk-container-id-28 div.sk-parallel-item:first-child::after {align-self: flex-end;width: 50%;}#sk-container-id-28 div.sk-parallel-item:last-child::after {align-self: flex-start;width: 50%;}#sk-container-id-28 div.sk-parallel-item:only-child::after {width: 0;}#sk-container-id-28 div.sk-dashed-wrapped {border: 1px dashed gray;margin: 0 0.4em 0.5em 0.4em;box-sizing: border-box;padding-bottom: 0.4em;background-color: white;}#sk-container-id-28 div.sk-label label {font-family: monospace;font-weight: bold;display: inline-block;line-height: 1.2em;}#sk-container-id-28 div.sk-label-container {text-align: center;}#sk-container-id-28 div.sk-container {/* jupyter's `normalize.less` sets `[hidden] { display: none; }` but bootstrap.min.css set `[hidden] { display: none !important; }` so we also need the `!important` here to be able to override the default hidden behavior on the sphinx rendered scikit-learn.org. See: https://github.com/scikit-learn/scikit-learn/issues/21755 */display: inline-block !important;position: relative;}#sk-container-id-28 div.sk-text-repr-fallback {display: none;}</style><div id=\"sk-container-id-28\" class=\"sk-top-container\"><div class=\"sk-text-repr-fallback\"><pre>LogisticRegression()</pre><b>In a Jupyter environment, please rerun this cell to show the HTML representation or trust the notebook. <br />On GitHub, the HTML representation is unable to render, please try loading this page with nbviewer.org.</b></div><div class=\"sk-container\" hidden><div class=\"sk-item\"><div class=\"sk-estimator sk-toggleable\"><input class=\"sk-toggleable__control sk-hidden--visually\" id=\"sk-estimator-id-28\" type=\"checkbox\" checked><label for=\"sk-estimator-id-28\" class=\"sk-toggleable__label sk-toggleable__label-arrow\">LogisticRegression</label><div class=\"sk-toggleable__content\"><pre>LogisticRegression()</pre></div></div></div></div></div>"
      ],
      "text/plain": [
       "LogisticRegression()"
      ]
     },
     "execution_count": 177,
     "metadata": {},
     "output_type": "execute_result"
    }
   ],
   "source": [
    "logisticregression = LogisticRegression()\n",
    "logisticregression.fit(X_train, y_train)"
   ]
  },
  {
   "cell_type": "code",
   "execution_count": 178,
   "id": "33c34c2c",
   "metadata": {},
   "outputs": [],
   "source": [
    "y_predict = logisticregression.predict(X_test)"
   ]
  },
  {
   "cell_type": "code",
   "execution_count": 179,
   "id": "74f7c23e",
   "metadata": {},
   "outputs": [
    {
     "name": "stdout",
     "output_type": "stream",
     "text": [
      "              precision    recall  f1-score   support\n",
      "\n",
      "           0       0.65      1.00      0.79       258\n",
      "           1       0.00      0.00      0.00       140\n",
      "\n",
      "    accuracy                           0.65       398\n",
      "   macro avg       0.32      0.50      0.39       398\n",
      "weighted avg       0.42      0.65      0.51       398\n",
      "\n"
     ]
    }
   ],
   "source": [
    "print(classification_report(y_test, y_predict))"
   ]
  },
  {
   "cell_type": "markdown",
   "id": "c58a0def",
   "metadata": {},
   "source": [
    "# Decision Tree with SHAP"
   ]
  },
  {
   "cell_type": "code",
   "execution_count": 180,
   "id": "3b305ba8",
   "metadata": {},
   "outputs": [
    {
     "data": {
      "text/html": [
       "<style>#sk-container-id-29 {color: black;background-color: white;}#sk-container-id-29 pre{padding: 0;}#sk-container-id-29 div.sk-toggleable {background-color: white;}#sk-container-id-29 label.sk-toggleable__label {cursor: pointer;display: block;width: 100%;margin-bottom: 0;padding: 0.3em;box-sizing: border-box;text-align: center;}#sk-container-id-29 label.sk-toggleable__label-arrow:before {content: \"▸\";float: left;margin-right: 0.25em;color: #696969;}#sk-container-id-29 label.sk-toggleable__label-arrow:hover:before {color: black;}#sk-container-id-29 div.sk-estimator:hover label.sk-toggleable__label-arrow:before {color: black;}#sk-container-id-29 div.sk-toggleable__content {max-height: 0;max-width: 0;overflow: hidden;text-align: left;background-color: #f0f8ff;}#sk-container-id-29 div.sk-toggleable__content pre {margin: 0.2em;color: black;border-radius: 0.25em;background-color: #f0f8ff;}#sk-container-id-29 input.sk-toggleable__control:checked~div.sk-toggleable__content {max-height: 200px;max-width: 100%;overflow: auto;}#sk-container-id-29 input.sk-toggleable__control:checked~label.sk-toggleable__label-arrow:before {content: \"▾\";}#sk-container-id-29 div.sk-estimator input.sk-toggleable__control:checked~label.sk-toggleable__label {background-color: #d4ebff;}#sk-container-id-29 div.sk-label input.sk-toggleable__control:checked~label.sk-toggleable__label {background-color: #d4ebff;}#sk-container-id-29 input.sk-hidden--visually {border: 0;clip: rect(1px 1px 1px 1px);clip: rect(1px, 1px, 1px, 1px);height: 1px;margin: -1px;overflow: hidden;padding: 0;position: absolute;width: 1px;}#sk-container-id-29 div.sk-estimator {font-family: monospace;background-color: #f0f8ff;border: 1px dotted black;border-radius: 0.25em;box-sizing: border-box;margin-bottom: 0.5em;}#sk-container-id-29 div.sk-estimator:hover {background-color: #d4ebff;}#sk-container-id-29 div.sk-parallel-item::after {content: \"\";width: 100%;border-bottom: 1px solid gray;flex-grow: 1;}#sk-container-id-29 div.sk-label:hover label.sk-toggleable__label {background-color: #d4ebff;}#sk-container-id-29 div.sk-serial::before {content: \"\";position: absolute;border-left: 1px solid gray;box-sizing: border-box;top: 0;bottom: 0;left: 50%;z-index: 0;}#sk-container-id-29 div.sk-serial {display: flex;flex-direction: column;align-items: center;background-color: white;padding-right: 0.2em;padding-left: 0.2em;position: relative;}#sk-container-id-29 div.sk-item {position: relative;z-index: 1;}#sk-container-id-29 div.sk-parallel {display: flex;align-items: stretch;justify-content: center;background-color: white;position: relative;}#sk-container-id-29 div.sk-item::before, #sk-container-id-29 div.sk-parallel-item::before {content: \"\";position: absolute;border-left: 1px solid gray;box-sizing: border-box;top: 0;bottom: 0;left: 50%;z-index: -1;}#sk-container-id-29 div.sk-parallel-item {display: flex;flex-direction: column;z-index: 1;position: relative;background-color: white;}#sk-container-id-29 div.sk-parallel-item:first-child::after {align-self: flex-end;width: 50%;}#sk-container-id-29 div.sk-parallel-item:last-child::after {align-self: flex-start;width: 50%;}#sk-container-id-29 div.sk-parallel-item:only-child::after {width: 0;}#sk-container-id-29 div.sk-dashed-wrapped {border: 1px dashed gray;margin: 0 0.4em 0.5em 0.4em;box-sizing: border-box;padding-bottom: 0.4em;background-color: white;}#sk-container-id-29 div.sk-label label {font-family: monospace;font-weight: bold;display: inline-block;line-height: 1.2em;}#sk-container-id-29 div.sk-label-container {text-align: center;}#sk-container-id-29 div.sk-container {/* jupyter's `normalize.less` sets `[hidden] { display: none; }` but bootstrap.min.css set `[hidden] { display: none !important; }` so we also need the `!important` here to be able to override the default hidden behavior on the sphinx rendered scikit-learn.org. See: https://github.com/scikit-learn/scikit-learn/issues/21755 */display: inline-block !important;position: relative;}#sk-container-id-29 div.sk-text-repr-fallback {display: none;}</style><div id=\"sk-container-id-29\" class=\"sk-top-container\"><div class=\"sk-text-repr-fallback\"><pre>DecisionTreeClassifier()</pre><b>In a Jupyter environment, please rerun this cell to show the HTML representation or trust the notebook. <br />On GitHub, the HTML representation is unable to render, please try loading this page with nbviewer.org.</b></div><div class=\"sk-container\" hidden><div class=\"sk-item\"><div class=\"sk-estimator sk-toggleable\"><input class=\"sk-toggleable__control sk-hidden--visually\" id=\"sk-estimator-id-29\" type=\"checkbox\" checked><label for=\"sk-estimator-id-29\" class=\"sk-toggleable__label sk-toggleable__label-arrow\">DecisionTreeClassifier</label><div class=\"sk-toggleable__content\"><pre>DecisionTreeClassifier()</pre></div></div></div></div></div>"
      ],
      "text/plain": [
       "DecisionTreeClassifier()"
      ]
     },
     "execution_count": 180,
     "metadata": {},
     "output_type": "execute_result"
    }
   ],
   "source": [
    "decisiontree = DecisionTreeClassifier()\n",
    "decisiontree.fit(X_train, y_train)"
   ]
  },
  {
   "cell_type": "code",
   "execution_count": 181,
   "id": "a42e4168",
   "metadata": {},
   "outputs": [],
   "source": [
    "y_predict = decisiontree.predict(X_test)"
   ]
  },
  {
   "cell_type": "code",
   "execution_count": 182,
   "id": "1493ea5d",
   "metadata": {},
   "outputs": [
    {
     "name": "stdout",
     "output_type": "stream",
     "text": [
      "              precision    recall  f1-score   support\n",
      "\n",
      "           0       0.80      0.88      0.84       258\n",
      "           1       0.73      0.59      0.65       140\n",
      "\n",
      "    accuracy                           0.78       398\n",
      "   macro avg       0.76      0.73      0.74       398\n",
      "weighted avg       0.77      0.78      0.77       398\n",
      "\n"
     ]
    }
   ],
   "source": [
    "print(classification_report(y_test, y_predict))"
   ]
  },
  {
   "cell_type": "code",
   "execution_count": 183,
   "id": "54955179",
   "metadata": {},
   "outputs": [
    {
     "data": {
      "image/png": "[encoded data removed]",
      "text/plain": [
       "<Figure size 640x480 with 2 Axes>"
      ]
     },
     "metadata": {},
     "output_type": "display_data"
    }
   ],
   "source": [
    "plot_confusion_matrix(decisiontree,X_test,y_test, cmap=plt.cm.Blues)\n",
    "plt.xticks([0,1],['Yes', 'No'])\n",
    "plt.yticks([0,1], ['Yes', 'No']);"
   ]
  },
  {
   "cell_type": "markdown",
   "id": "4efc2b02",
   "metadata": {},
   "source": [
    "# KNN with SHAP"
   ]
  },
  {
   "cell_type": "code",
   "execution_count": 184,
   "id": "aa412b33",
   "metadata": {},
   "outputs": [
    {
     "data": {
      "text/html": [
       "<style>#sk-container-id-30 {color: black;background-color: white;}#sk-container-id-30 pre{padding: 0;}#sk-container-id-30 div.sk-toggleable {background-color: white;}#sk-container-id-30 label.sk-toggleable__label {cursor: pointer;display: block;width: 100%;margin-bottom: 0;padding: 0.3em;box-sizing: border-box;text-align: center;}#sk-container-id-30 label.sk-toggleable__label-arrow:before {content: \"▸\";float: left;margin-right: 0.25em;color: #696969;}#sk-container-id-30 label.sk-toggleable__label-arrow:hover:before {color: black;}#sk-container-id-30 div.sk-estimator:hover label.sk-toggleable__label-arrow:before {color: black;}#sk-container-id-30 div.sk-toggleable__content {max-height: 0;max-width: 0;overflow: hidden;text-align: left;background-color: #f0f8ff;}#sk-container-id-30 div.sk-toggleable__content pre {margin: 0.2em;color: black;border-radius: 0.25em;background-color: #f0f8ff;}#sk-container-id-30 input.sk-toggleable__control:checked~div.sk-toggleable__content {max-height: 200px;max-width: 100%;overflow: auto;}#sk-container-id-30 input.sk-toggleable__control:checked~label.sk-toggleable__label-arrow:before {content: \"▾\";}#sk-container-id-30 div.sk-estimator input.sk-toggleable__control:checked~label.sk-toggleable__label {background-color: #d4ebff;}#sk-container-id-30 div.sk-label input.sk-toggleable__control:checked~label.sk-toggleable__label {background-color: #d4ebff;}#sk-container-id-30 input.sk-hidden--visually {border: 0;clip: rect(1px 1px 1px 1px);clip: rect(1px, 1px, 1px, 1px);height: 1px;margin: -1px;overflow: hidden;padding: 0;position: absolute;width: 1px;}#sk-container-id-30 div.sk-estimator {font-family: monospace;background-color: #f0f8ff;border: 1px dotted black;border-radius: 0.25em;box-sizing: border-box;margin-bottom: 0.5em;}#sk-container-id-30 div.sk-estimator:hover {background-color: #d4ebff;}#sk-container-id-30 div.sk-parallel-item::after {content: \"\";width: 100%;border-bottom: 1px solid gray;flex-grow: 1;}#sk-container-id-30 div.sk-label:hover label.sk-toggleable__label {background-color: #d4ebff;}#sk-container-id-30 div.sk-serial::before {content: \"\";position: absolute;border-left: 1px solid gray;box-sizing: border-box;top: 0;bottom: 0;left: 50%;z-index: 0;}#sk-container-id-30 div.sk-serial {display: flex;flex-direction: column;align-items: center;background-color: white;padding-right: 0.2em;padding-left: 0.2em;position: relative;}#sk-container-id-30 div.sk-item {position: relative;z-index: 1;}#sk-container-id-30 div.sk-parallel {display: flex;align-items: stretch;justify-content: center;background-color: white;position: relative;}#sk-container-id-30 div.sk-item::before, #sk-container-id-30 div.sk-parallel-item::before {content: \"\";position: absolute;border-left: 1px solid gray;box-sizing: border-box;top: 0;bottom: 0;left: 50%;z-index: -1;}#sk-container-id-30 div.sk-parallel-item {display: flex;flex-direction: column;z-index: 1;position: relative;background-color: white;}#sk-container-id-30 div.sk-parallel-item:first-child::after {align-self: flex-end;width: 50%;}#sk-container-id-30 div.sk-parallel-item:last-child::after {align-self: flex-start;width: 50%;}#sk-container-id-30 div.sk-parallel-item:only-child::after {width: 0;}#sk-container-id-30 div.sk-dashed-wrapped {border: 1px dashed gray;margin: 0 0.4em 0.5em 0.4em;box-sizing: border-box;padding-bottom: 0.4em;background-color: white;}#sk-container-id-30 div.sk-label label {font-family: monospace;font-weight: bold;display: inline-block;line-height: 1.2em;}#sk-container-id-30 div.sk-label-container {text-align: center;}#sk-container-id-30 div.sk-container {/* jupyter's `normalize.less` sets `[hidden] { display: none; }` but bootstrap.min.css set `[hidden] { display: none !important; }` so we also need the `!important` here to be able to override the default hidden behavior on the sphinx rendered scikit-learn.org. See: https://github.com/scikit-learn/scikit-learn/issues/21755 */display: inline-block !important;position: relative;}#sk-container-id-30 div.sk-text-repr-fallback {display: none;}</style><div id=\"sk-container-id-30\" class=\"sk-top-container\"><div class=\"sk-text-repr-fallback\"><pre>KNeighborsClassifier(n_neighbors=3)</pre><b>In a Jupyter environment, please rerun this cell to show the HTML representation or trust the notebook. <br />On GitHub, the HTML representation is unable to render, please try loading this page with nbviewer.org.</b></div><div class=\"sk-container\" hidden><div class=\"sk-item\"><div class=\"sk-estimator sk-toggleable\"><input class=\"sk-toggleable__control sk-hidden--visually\" id=\"sk-estimator-id-30\" type=\"checkbox\" checked><label for=\"sk-estimator-id-30\" class=\"sk-toggleable__label sk-toggleable__label-arrow\">KNeighborsClassifier</label><div class=\"sk-toggleable__content\"><pre>KNeighborsClassifier(n_neighbors=3)</pre></div></div></div></div></div>"
      ],
      "text/plain": [
       "KNeighborsClassifier(n_neighbors=3)"
      ]
     },
     "execution_count": 184,
     "metadata": {},
     "output_type": "execute_result"
    }
   ],
   "source": [
    "from sklearn.neighbors import KNeighborsClassifier\n",
    "\n",
    "\n",
    "knn = KNeighborsClassifier(n_neighbors=3)\n",
    "knn.fit(X_train, y_train)"
   ]
  },
  {
   "cell_type": "code",
   "execution_count": 185,
   "id": "74a5856a",
   "metadata": {},
   "outputs": [],
   "source": [
    "y_predict = decisiontree.predict(X_test)"
   ]
  },
  {
   "cell_type": "code",
   "execution_count": 186,
   "id": "3d20ac20",
   "metadata": {},
   "outputs": [
    {
     "name": "stdout",
     "output_type": "stream",
     "text": [
      "              precision    recall  f1-score   support\n",
      "\n",
      "           0       0.80      0.88      0.84       258\n",
      "           1       0.73      0.59      0.65       140\n",
      "\n",
      "    accuracy                           0.78       398\n",
      "   macro avg       0.76      0.73      0.74       398\n",
      "weighted avg       0.77      0.78      0.77       398\n",
      "\n"
     ]
    }
   ],
   "source": [
    "print(classification_report(y_test, y_predict))"
   ]
  },
  {
   "cell_type": "code",
   "execution_count": 187,
   "id": "fa9f7702",
   "metadata": {
    "scrolled": true
   },
   "outputs": [
    {
     "data": {
      "image/png": "[encoded data removed]",
      "text/plain": [
       "<Figure size 640x480 with 2 Axes>"
      ]
     },
     "metadata": {},
     "output_type": "display_data"
    }
   ],
   "source": [
    "plot_confusion_matrix(knn,X_test,y_test, cmap=plt.cm.Blues)\n",
    "plt.xticks([0,1],['Yes', 'No'])\n",
    "plt.yticks([0,1], ['Yes', 'No']);"
   ]
  },
  {
   "cell_type": "markdown",
   "id": "5fce3b96",
   "metadata": {},
   "source": [
    "# Logistic Regression with Optuna"
   ]
  },
  {
   "cell_type": "code",
   "execution_count": 188,
   "id": "4e23ef64",
   "metadata": {
    "scrolled": false
   },
   "outputs": [],
   "source": [
    "def objective(trial):\n",
    "    # Define the hyperparameters to optimize\n",
    "    C = trial.suggest_loguniform('C', 1e-5, 1e5)\n",
    "    max_iter = trial.suggest_int('max_iter', 10, 20)\n",
    "\n",
    "    # Train a logistic regression model with the current hyperparameters\n",
    "    model = LogisticRegression(C=C,\n",
    "                               max_iter=max_iter,\n",
    "                               random_state=0)\n",
    "    \n",
    "    model.fit(X_train, y_train)\n",
    "\n",
    "    # Calculate the accuracy score for the model on the test data\n",
    "    y_pred = model.predict(X_test)\n",
    "    accuracy = accuracy_score(y_test, y_pred)\n",
    "\n",
    "    # Report the accuracy score to Optuna\n",
    "    return accuracy"
   ]
  },
  {
   "cell_type": "code",
   "execution_count": 189,
   "id": "b84fa303",
   "metadata": {},
   "outputs": [
    {
     "name": "stderr",
     "output_type": "stream",
     "text": [
      "\u001b[32m[I 2023-05-07 14:46:30,424]\u001b[0m A new study created in memory with name: no-name-cbcb197d-d38c-4c98-afa9-b9d6b379828f\u001b[0m\n",
      "\u001b[32m[I 2023-05-07 14:46:30,440]\u001b[0m Trial 0 finished with value: 0.6482412060301508 and parameters: {'C': 33409.53044679378, 'max_iter': 11}. Best is trial 0 with value: 0.6482412060301508.\u001b[0m\n",
      "\u001b[32m[I 2023-05-07 14:46:30,455]\u001b[0m Trial 1 finished with value: 0.6482412060301508 and parameters: {'C': 571.2578731735998, 'max_iter': 11}. Best is trial 0 with value: 0.6482412060301508.\u001b[0m\n",
      "\u001b[32m[I 2023-05-07 14:46:30,455]\u001b[0m Trial 2 finished with value: 0.6482412060301508 and parameters: {'C': 2.1316604258484575e-05, 'max_iter': 15}. Best is trial 0 with value: 0.6482412060301508.\u001b[0m\n",
      "\u001b[32m[I 2023-05-07 14:46:30,471]\u001b[0m Trial 3 finished with value: 0.6482412060301508 and parameters: {'C': 32.37047378252708, 'max_iter': 15}. Best is trial 0 with value: 0.6482412060301508.\u001b[0m\n",
      "\u001b[32m[I 2023-05-07 14:46:30,487]\u001b[0m Trial 4 finished with value: 0.6482412060301508 and parameters: {'C': 0.06754557654259027, 'max_iter': 18}. Best is trial 0 with value: 0.6482412060301508.\u001b[0m\n",
      "\u001b[32m[I 2023-05-07 14:46:30,502]\u001b[0m Trial 5 finished with value: 0.6482412060301508 and parameters: {'C': 3004.9406884408554, 'max_iter': 13}. Best is trial 0 with value: 0.6482412060301508.\u001b[0m\n",
      "\u001b[32m[I 2023-05-07 14:46:30,518]\u001b[0m Trial 6 finished with value: 0.6482412060301508 and parameters: {'C': 569.3427293468765, 'max_iter': 11}. Best is trial 0 with value: 0.6482412060301508.\u001b[0m\n",
      "\u001b[32m[I 2023-05-07 14:46:30,533]\u001b[0m Trial 7 finished with value: 0.6482412060301508 and parameters: {'C': 0.029968421225183582, 'max_iter': 17}. Best is trial 0 with value: 0.6482412060301508.\u001b[0m\n",
      "\u001b[32m[I 2023-05-07 14:46:30,549]\u001b[0m Trial 8 finished with value: 0.6482412060301508 and parameters: {'C': 122.77812534116684, 'max_iter': 12}. Best is trial 0 with value: 0.6482412060301508.\u001b[0m\n",
      "\u001b[32m[I 2023-05-07 14:46:30,565]\u001b[0m Trial 9 finished with value: 0.6482412060301508 and parameters: {'C': 269.21136812002766, 'max_iter': 17}. Best is trial 0 with value: 0.6482412060301508.\u001b[0m\n",
      "\u001b[32m[I 2023-05-07 14:46:30,596]\u001b[0m Trial 10 finished with value: 0.6482412060301508 and parameters: {'C': 45735.052731953336, 'max_iter': 20}. Best is trial 0 with value: 0.6482412060301508.\u001b[0m\n",
      "\u001b[32m[I 2023-05-07 14:46:30,627]\u001b[0m Trial 11 finished with value: 0.6482412060301508 and parameters: {'C': 30732.93371068452, 'max_iter': 10}. Best is trial 0 with value: 0.6482412060301508.\u001b[0m\n",
      "\u001b[32m[I 2023-05-07 14:46:30,658]\u001b[0m Trial 12 finished with value: 0.6482412060301508 and parameters: {'C': 80809.52987224257, 'max_iter': 13}. Best is trial 0 with value: 0.6482412060301508.\u001b[0m\n",
      "\u001b[32m[I 2023-05-07 14:46:30,690]\u001b[0m Trial 13 finished with value: 0.6482412060301508 and parameters: {'C': 6.457035976934456, 'max_iter': 10}. Best is trial 0 with value: 0.6482412060301508.\u001b[0m\n",
      "\u001b[32m[I 2023-05-07 14:46:30,721]\u001b[0m Trial 14 finished with value: 0.6482412060301508 and parameters: {'C': 3858.864102468195, 'max_iter': 13}. Best is trial 0 with value: 0.6482412060301508.\u001b[0m\n",
      "\u001b[32m[I 2023-05-07 14:46:30,752]\u001b[0m Trial 15 finished with value: 0.6482412060301508 and parameters: {'C': 2842.481510728885, 'max_iter': 11}. Best is trial 0 with value: 0.6482412060301508.\u001b[0m\n",
      "\u001b[32m[I 2023-05-07 14:46:30,783]\u001b[0m Trial 16 finished with value: 0.6482412060301508 and parameters: {'C': 7.7352600425324205, 'max_iter': 14}. Best is trial 0 with value: 0.6482412060301508.\u001b[0m\n",
      "\u001b[32m[I 2023-05-07 14:46:30,799]\u001b[0m Trial 17 finished with value: 0.6482412060301508 and parameters: {'C': 1763.7443018614927, 'max_iter': 11}. Best is trial 0 with value: 0.6482412060301508.\u001b[0m\n",
      "\u001b[32m[I 2023-05-07 14:46:30,830]\u001b[0m Trial 18 finished with value: 0.6482412060301508 and parameters: {'C': 9415.997107093188, 'max_iter': 12}. Best is trial 0 with value: 0.6482412060301508.\u001b[0m\n",
      "\u001b[32m[I 2023-05-07 14:46:30,861]\u001b[0m Trial 19 finished with value: 0.6482412060301508 and parameters: {'C': 237.31937898622542, 'max_iter': 15}. Best is trial 0 with value: 0.6482412060301508.\u001b[0m\n",
      "\u001b[32m[I 2023-05-07 14:46:30,877]\u001b[0m Trial 20 finished with value: 0.6482412060301508 and parameters: {'C': 42307.97911142996, 'max_iter': 14}. Best is trial 0 with value: 0.6482412060301508.\u001b[0m\n",
      "\u001b[32m[I 2023-05-07 14:46:30,908]\u001b[0m Trial 21 finished with value: 0.6482412060301508 and parameters: {'C': 0.00032946360219490326, 'max_iter': 20}. Best is trial 0 with value: 0.6482412060301508.\u001b[0m\n",
      "\u001b[32m[I 2023-05-07 14:46:30,940]\u001b[0m Trial 22 finished with value: 0.6482412060301508 and parameters: {'C': 1.3014682660793389e-05, 'max_iter': 16}. Best is trial 0 with value: 0.6482412060301508.\u001b[0m\n",
      "\u001b[32m[I 2023-05-07 14:46:30,971]\u001b[0m Trial 23 finished with value: 0.6482412060301508 and parameters: {'C': 0.880402805758181, 'max_iter': 12}. Best is trial 0 with value: 0.6482412060301508.\u001b[0m\n",
      "\u001b[32m[I 2023-05-07 14:46:31,002]\u001b[0m Trial 24 finished with value: 0.6482412060301508 and parameters: {'C': 0.0015236225789130383, 'max_iter': 10}. Best is trial 0 with value: 0.6482412060301508.\u001b[0m\n",
      "\u001b[32m[I 2023-05-07 14:46:31,033]\u001b[0m Trial 25 finished with value: 0.6482412060301508 and parameters: {'C': 49.72806839401324, 'max_iter': 19}. Best is trial 0 with value: 0.6482412060301508.\u001b[0m\n",
      "\u001b[32m[I 2023-05-07 14:46:31,065]\u001b[0m Trial 26 finished with value: 0.6482412060301508 and parameters: {'C': 14100.93239280146, 'max_iter': 16}. Best is trial 0 with value: 0.6482412060301508.\u001b[0m\n",
      "\u001b[32m[I 2023-05-07 14:46:31,096]\u001b[0m Trial 27 finished with value: 0.6482412060301508 and parameters: {'C': 791.8443592905332, 'max_iter': 11}. Best is trial 0 with value: 0.6482412060301508.\u001b[0m\n",
      "\u001b[32m[I 2023-05-07 14:46:31,143]\u001b[0m Trial 28 finished with value: 0.6482412060301508 and parameters: {'C': 8059.057183522664, 'max_iter': 14}. Best is trial 0 with value: 0.6482412060301508.\u001b[0m\n",
      "\u001b[32m[I 2023-05-07 14:46:31,174]\u001b[0m Trial 29 finished with value: 0.6482412060301508 and parameters: {'C': 20.971257945108427, 'max_iter': 12}. Best is trial 0 with value: 0.6482412060301508.\u001b[0m\n",
      "\u001b[32m[I 2023-05-07 14:46:31,205]\u001b[0m Trial 30 finished with value: 0.6482412060301508 and parameters: {'C': 1.0341014950470495e-05, 'max_iter': 16}. Best is trial 0 with value: 0.6482412060301508.\u001b[0m\n",
      "\u001b[32m[I 2023-05-07 14:46:31,247]\u001b[0m Trial 31 finished with value: 0.6482412060301508 and parameters: {'C': 0.782549189370827, 'max_iter': 15}. Best is trial 0 with value: 0.6482412060301508.\u001b[0m\n",
      "\u001b[32m[I 2023-05-07 14:46:31,294]\u001b[0m Trial 32 finished with value: 0.6482412060301508 and parameters: {'C': 102.82429257695672, 'max_iter': 18}. Best is trial 0 with value: 0.6482412060301508.\u001b[0m\n",
      "\u001b[32m[I 2023-05-07 14:46:31,325]\u001b[0m Trial 33 finished with value: 0.6482412060301508 and parameters: {'C': 1788.1068084382491, 'max_iter': 15}. Best is trial 0 with value: 0.6482412060301508.\u001b[0m\n",
      "\u001b[32m[I 2023-05-07 14:46:31,372]\u001b[0m Trial 34 finished with value: 0.6482412060301508 and parameters: {'C': 757.0736164615944, 'max_iter': 13}. Best is trial 0 with value: 0.6482412060301508.\u001b[0m\n",
      "\u001b[32m[I 2023-05-07 14:46:31,403]\u001b[0m Trial 35 finished with value: 0.6482412060301508 and parameters: {'C': 0.17314517008141164, 'max_iter': 17}. Best is trial 0 with value: 0.6482412060301508.\u001b[0m\n",
      "\u001b[32m[I 2023-05-07 14:46:31,450]\u001b[0m Trial 36 finished with value: 0.6482412060301508 and parameters: {'C': 18.84664253280385, 'max_iter': 18}. Best is trial 0 with value: 0.6482412060301508.\u001b[0m\n",
      "\u001b[32m[I 2023-05-07 14:46:31,481]\u001b[0m Trial 37 finished with value: 0.6482412060301508 and parameters: {'C': 389.345503890578, 'max_iter': 11}. Best is trial 0 with value: 0.6482412060301508.\u001b[0m\n",
      "\u001b[32m[I 2023-05-07 14:46:31,544]\u001b[0m Trial 38 finished with value: 0.6482412060301508 and parameters: {'C': 81.1854265957288, 'max_iter': 14}. Best is trial 0 with value: 0.6482412060301508.\u001b[0m\n",
      "\u001b[32m[I 2023-05-07 14:46:31,575]\u001b[0m Trial 39 finished with value: 0.6482412060301508 and parameters: {'C': 2.9854240342857947, 'max_iter': 13}. Best is trial 0 with value: 0.6482412060301508.\u001b[0m\n",
      "\u001b[32m[I 2023-05-07 14:46:31,622]\u001b[0m Trial 40 finished with value: 0.6482412060301508 and parameters: {'C': 0.0358025893356345, 'max_iter': 10}. Best is trial 0 with value: 0.6482412060301508.\u001b[0m\n"
     ]
    },
    {
     "name": "stderr",
     "output_type": "stream",
     "text": [
      "\u001b[32m[I 2023-05-07 14:46:31,637]\u001b[0m Trial 41 finished with value: 0.6482412060301508 and parameters: {'C': 375.1858150618616, 'max_iter': 19}. Best is trial 0 with value: 0.6482412060301508.\u001b[0m\n",
      "\u001b[32m[I 2023-05-07 14:46:31,669]\u001b[0m Trial 42 finished with value: 0.6482412060301508 and parameters: {'C': 47.29626916027055, 'max_iter': 15}. Best is trial 0 with value: 0.6482412060301508.\u001b[0m\n",
      "\u001b[32m[I 2023-05-07 14:46:31,700]\u001b[0m Trial 43 finished with value: 0.6482412060301508 and parameters: {'C': 79984.89690324772, 'max_iter': 17}. Best is trial 0 with value: 0.6482412060301508.\u001b[0m\n",
      "\u001b[32m[I 2023-05-07 14:46:31,731]\u001b[0m Trial 44 finished with value: 0.6482412060301508 and parameters: {'C': 22656.583153927742, 'max_iter': 16}. Best is trial 0 with value: 0.6482412060301508.\u001b[0m\n",
      "\u001b[32m[I 2023-05-07 14:46:31,762]\u001b[0m Trial 45 finished with value: 0.6482412060301508 and parameters: {'C': 3991.6367142959593, 'max_iter': 18}. Best is trial 0 with value: 0.6482412060301508.\u001b[0m\n",
      "\u001b[32m[I 2023-05-07 14:46:31,794]\u001b[0m Trial 46 finished with value: 0.6482412060301508 and parameters: {'C': 193.85676075294626, 'max_iter': 12}. Best is trial 0 with value: 0.6482412060301508.\u001b[0m\n",
      "\u001b[32m[I 2023-05-07 14:46:31,809]\u001b[0m Trial 47 finished with value: 0.6482412060301508 and parameters: {'C': 2.65935292798223, 'max_iter': 13}. Best is trial 0 with value: 0.6482412060301508.\u001b[0m\n",
      "\u001b[32m[I 2023-05-07 14:46:31,841]\u001b[0m Trial 48 finished with value: 0.6482412060301508 and parameters: {'C': 1311.1679983976235, 'max_iter': 19}. Best is trial 0 with value: 0.6482412060301508.\u001b[0m\n",
      "\u001b[32m[I 2023-05-07 14:46:31,856]\u001b[0m Trial 49 finished with value: 0.6482412060301508 and parameters: {'C': 6746.061931144646, 'max_iter': 12}. Best is trial 0 with value: 0.6482412060301508.\u001b[0m\n",
      "\u001b[32m[I 2023-05-07 14:46:31,887]\u001b[0m Trial 50 finished with value: 0.6482412060301508 and parameters: {'C': 96242.68123581652, 'max_iter': 10}. Best is trial 0 with value: 0.6482412060301508.\u001b[0m\n",
      "\u001b[32m[I 2023-05-07 14:46:31,919]\u001b[0m Trial 51 finished with value: 0.6482412060301508 and parameters: {'C': 2702.489834954779, 'max_iter': 11}. Best is trial 0 with value: 0.6482412060301508.\u001b[0m\n",
      "\u001b[32m[I 2023-05-07 14:46:31,934]\u001b[0m Trial 52 finished with value: 0.6482412060301508 and parameters: {'C': 33121.622628302175, 'max_iter': 14}. Best is trial 0 with value: 0.6482412060301508.\u001b[0m\n",
      "\u001b[32m[I 2023-05-07 14:46:31,966]\u001b[0m Trial 53 finished with value: 0.6482412060301508 and parameters: {'C': 0.002597573829347335, 'max_iter': 15}. Best is trial 0 with value: 0.6482412060301508.\u001b[0m\n",
      "\u001b[32m[I 2023-05-07 14:46:31,997]\u001b[0m Trial 54 finished with value: 0.6482412060301508 and parameters: {'C': 763.2941291182759, 'max_iter': 13}. Best is trial 0 with value: 0.6482412060301508.\u001b[0m\n",
      "\u001b[32m[I 2023-05-07 14:46:32,012]\u001b[0m Trial 55 finished with value: 0.6482412060301508 and parameters: {'C': 277.7307233397248, 'max_iter': 12}. Best is trial 0 with value: 0.6482412060301508.\u001b[0m\n",
      "\u001b[32m[I 2023-05-07 14:46:32,044]\u001b[0m Trial 56 finished with value: 0.6482412060301508 and parameters: {'C': 4192.14115369474, 'max_iter': 11}. Best is trial 0 with value: 0.6482412060301508.\u001b[0m\n",
      "\u001b[32m[I 2023-05-07 14:46:32,075]\u001b[0m Trial 57 finished with value: 0.6482412060301508 and parameters: {'C': 2.2522376900248013e-05, 'max_iter': 16}. Best is trial 0 with value: 0.6482412060301508.\u001b[0m\n",
      "\u001b[32m[I 2023-05-07 14:46:32,090]\u001b[0m Trial 58 finished with value: 0.6482412060301508 and parameters: {'C': 10820.87477729923, 'max_iter': 14}. Best is trial 0 with value: 0.6482412060301508.\u001b[0m\n",
      "\u001b[32m[I 2023-05-07 14:46:32,122]\u001b[0m Trial 59 finished with value: 0.6482412060301508 and parameters: {'C': 161.68340063097932, 'max_iter': 20}. Best is trial 0 with value: 0.6482412060301508.\u001b[0m\n",
      "\u001b[32m[I 2023-05-07 14:46:32,153]\u001b[0m Trial 60 finished with value: 0.6482412060301508 and parameters: {'C': 16599.72013687967, 'max_iter': 17}. Best is trial 0 with value: 0.6482412060301508.\u001b[0m\n",
      "\u001b[32m[I 2023-05-07 14:46:32,169]\u001b[0m Trial 61 finished with value: 0.6482412060301508 and parameters: {'C': 908.2756987152102, 'max_iter': 10}. Best is trial 0 with value: 0.6482412060301508.\u001b[0m\n",
      "\u001b[32m[I 2023-05-07 14:46:32,200]\u001b[0m Trial 62 finished with value: 0.6482412060301508 and parameters: {'C': 2089.3011046240795, 'max_iter': 11}. Best is trial 0 with value: 0.6482412060301508.\u001b[0m\n",
      "\u001b[32m[I 2023-05-07 14:46:32,231]\u001b[0m Trial 63 finished with value: 0.6482412060301508 and parameters: {'C': 5845.276408089386, 'max_iter': 11}. Best is trial 0 with value: 0.6482412060301508.\u001b[0m\n",
      "\u001b[32m[I 2023-05-07 14:46:32,273]\u001b[0m Trial 64 finished with value: 0.6482412060301508 and parameters: {'C': 17.500946662329035, 'max_iter': 12}. Best is trial 0 with value: 0.6482412060301508.\u001b[0m\n",
      "\u001b[32m[I 2023-05-07 14:46:32,298]\u001b[0m Trial 65 finished with value: 0.6482412060301508 and parameters: {'C': 481.4560940485885, 'max_iter': 13}. Best is trial 0 with value: 0.6482412060301508.\u001b[0m\n",
      "\u001b[32m[I 2023-05-07 14:46:32,335]\u001b[0m Trial 66 finished with value: 0.6482412060301508 and parameters: {'C': 1677.048253082218, 'max_iter': 10}. Best is trial 0 with value: 0.6482412060301508.\u001b[0m\n",
      "\u001b[32m[I 2023-05-07 14:46:32,351]\u001b[0m Trial 67 finished with value: 0.6482412060301508 and parameters: {'C': 105.11067206465012, 'max_iter': 15}. Best is trial 0 with value: 0.6482412060301508.\u001b[0m\n",
      "\u001b[32m[I 2023-05-07 14:46:32,382]\u001b[0m Trial 68 finished with value: 0.6482412060301508 and parameters: {'C': 0.39530532151966513, 'max_iter': 11}. Best is trial 0 with value: 0.6482412060301508.\u001b[0m\n",
      "\u001b[32m[I 2023-05-07 14:46:32,413]\u001b[0m Trial 69 finished with value: 0.6482412060301508 and parameters: {'C': 14060.727038903864, 'max_iter': 14}. Best is trial 0 with value: 0.6482412060301508.\u001b[0m\n",
      "\u001b[32m[I 2023-05-07 14:46:32,429]\u001b[0m Trial 70 finished with value: 0.6482412060301508 and parameters: {'C': 40.964232526513015, 'max_iter': 12}. Best is trial 0 with value: 0.6482412060301508.\u001b[0m\n",
      "\u001b[32m[I 2023-05-07 14:46:32,460]\u001b[0m Trial 71 finished with value: 0.6482412060301508 and parameters: {'C': 0.007257831471157623, 'max_iter': 18}. Best is trial 0 with value: 0.6482412060301508.\u001b[0m\n",
      "\u001b[32m[I 2023-05-07 14:46:32,491]\u001b[0m Trial 72 finished with value: 0.6482412060301508 and parameters: {'C': 0.08126837625066116, 'max_iter': 16}. Best is trial 0 with value: 0.6482412060301508.\u001b[0m\n",
      "\u001b[32m[I 2023-05-07 14:46:32,522]\u001b[0m Trial 73 finished with value: 0.6482412060301508 and parameters: {'C': 0.018416281886909625, 'max_iter': 18}. Best is trial 0 with value: 0.6482412060301508.\u001b[0m\n",
      "\u001b[32m[I 2023-05-07 14:46:32,554]\u001b[0m Trial 74 finished with value: 0.6482412060301508 and parameters: {'C': 0.00022865473882735743, 'max_iter': 17}. Best is trial 0 with value: 0.6482412060301508.\u001b[0m\n",
      "\u001b[32m[I 2023-05-07 14:46:32,600]\u001b[0m Trial 75 finished with value: 0.6482412060301508 and parameters: {'C': 0.24232270865925787, 'max_iter': 17}. Best is trial 0 with value: 0.6482412060301508.\u001b[0m\n",
      "\u001b[32m[I 2023-05-07 14:46:32,632]\u001b[0m Trial 76 finished with value: 0.6482412060301508 and parameters: {'C': 5.2538681907383395, 'max_iter': 19}. Best is trial 0 with value: 0.6482412060301508.\u001b[0m\n",
      "\u001b[32m[I 2023-05-07 14:46:32,663]\u001b[0m Trial 77 finished with value: 0.6482412060301508 and parameters: {'C': 1.3450986178242645, 'max_iter': 15}. Best is trial 0 with value: 0.6482412060301508.\u001b[0m\n",
      "\u001b[32m[I 2023-05-07 14:46:32,694]\u001b[0m Trial 78 finished with value: 0.6482412060301508 and parameters: {'C': 0.05616979352840536, 'max_iter': 10}. Best is trial 0 with value: 0.6482412060301508.\u001b[0m\n",
      "\u001b[32m[I 2023-05-07 14:46:32,725]\u001b[0m Trial 79 finished with value: 0.6482412060301508 and parameters: {'C': 46282.04942661493, 'max_iter': 11}. Best is trial 0 with value: 0.6482412060301508.\u001b[0m\n",
      "\u001b[32m[I 2023-05-07 14:46:32,772]\u001b[0m Trial 80 finished with value: 0.6482412060301508 and parameters: {'C': 503.22115836753534, 'max_iter': 16}. Best is trial 0 with value: 0.6482412060301508.\u001b[0m\n",
      "\u001b[32m[I 2023-05-07 14:46:32,788]\u001b[0m Trial 81 finished with value: 0.6482412060301508 and parameters: {'C': 243.303985643811, 'max_iter': 12}. Best is trial 0 with value: 0.6482412060301508.\u001b[0m\n",
      "\u001b[32m[I 2023-05-07 14:46:32,819]\u001b[0m Trial 82 finished with value: 0.6482412060301508 and parameters: {'C': 144.7678424404569, 'max_iter': 11}. Best is trial 0 with value: 0.6482412060301508.\u001b[0m\n"
     ]
    },
    {
     "name": "stderr",
     "output_type": "stream",
     "text": [
      "\u001b[32m[I 2023-05-07 14:46:32,850]\u001b[0m Trial 83 finished with value: 0.6482412060301508 and parameters: {'C': 10.016866734709309, 'max_iter': 12}. Best is trial 0 with value: 0.6482412060301508.\u001b[0m\n",
      "\u001b[32m[I 2023-05-07 14:46:32,866]\u001b[0m Trial 84 finished with value: 0.6482412060301508 and parameters: {'C': 2908.205966746904, 'max_iter': 14}. Best is trial 0 with value: 0.6482412060301508.\u001b[0m\n",
      "\u001b[32m[I 2023-05-07 14:46:32,897]\u001b[0m Trial 85 finished with value: 0.6482412060301508 and parameters: {'C': 59.46933688336841, 'max_iter': 13}. Best is trial 0 with value: 0.6482412060301508.\u001b[0m\n",
      "\u001b[32m[I 2023-05-07 14:46:32,913]\u001b[0m Trial 86 finished with value: 0.6482412060301508 and parameters: {'C': 986.8753735097499, 'max_iter': 12}. Best is trial 0 with value: 0.6482412060301508.\u001b[0m\n",
      "\u001b[32m[I 2023-05-07 14:46:32,944]\u001b[0m Trial 87 finished with value: 0.6482412060301508 and parameters: {'C': 287.84040245419567, 'max_iter': 11}. Best is trial 0 with value: 0.6482412060301508.\u001b[0m\n",
      "\u001b[32m[I 2023-05-07 14:46:32,975]\u001b[0m Trial 88 finished with value: 0.6482412060301508 and parameters: {'C': 38.65697426512134, 'max_iter': 18}. Best is trial 0 with value: 0.6482412060301508.\u001b[0m\n",
      "\u001b[32m[I 2023-05-07 14:46:32,991]\u001b[0m Trial 89 finished with value: 0.6482412060301508 and parameters: {'C': 1484.06331848592, 'max_iter': 15}. Best is trial 0 with value: 0.6482412060301508.\u001b[0m\n",
      "\u001b[32m[I 2023-05-07 14:46:33,022]\u001b[0m Trial 90 finished with value: 0.6482412060301508 and parameters: {'C': 587.1444994403121, 'max_iter': 11}. Best is trial 0 with value: 0.6482412060301508.\u001b[0m\n",
      "\u001b[32m[I 2023-05-07 14:46:33,038]\u001b[0m Trial 91 finished with value: 0.6482412060301508 and parameters: {'C': 171.34668353062148, 'max_iter': 17}. Best is trial 0 with value: 0.6482412060301508.\u001b[0m\n",
      "\u001b[32m[I 2023-05-07 14:46:33,069]\u001b[0m Trial 92 finished with value: 0.6482412060301508 and parameters: {'C': 393.3699092141443, 'max_iter': 16}. Best is trial 0 with value: 0.6482412060301508.\u001b[0m\n",
      "\u001b[32m[I 2023-05-07 14:46:33,100]\u001b[0m Trial 93 finished with value: 0.6482412060301508 and parameters: {'C': 5852.551500180771, 'max_iter': 18}. Best is trial 0 with value: 0.6482412060301508.\u001b[0m\n",
      "\u001b[32m[I 2023-05-07 14:46:33,132]\u001b[0m Trial 94 finished with value: 0.6482412060301508 and parameters: {'C': 86.55618712097541, 'max_iter': 17}. Best is trial 0 with value: 0.6482412060301508.\u001b[0m\n",
      "\u001b[32m[I 2023-05-07 14:46:33,163]\u001b[0m Trial 95 finished with value: 0.6482412060301508 and parameters: {'C': 807.3040504907844, 'max_iter': 16}. Best is trial 0 with value: 0.6482412060301508.\u001b[0m\n",
      "\u001b[32m[I 2023-05-07 14:46:33,194]\u001b[0m Trial 96 finished with value: 0.6482412060301508 and parameters: {'C': 26.088923767399127, 'max_iter': 11}. Best is trial 0 with value: 0.6482412060301508.\u001b[0m\n",
      "\u001b[32m[I 2023-05-07 14:46:33,225]\u001b[0m Trial 97 finished with value: 0.6482412060301508 and parameters: {'C': 114.52455806555847, 'max_iter': 13}. Best is trial 0 with value: 0.6482412060301508.\u001b[0m\n",
      "\u001b[32m[I 2023-05-07 14:46:33,241]\u001b[0m Trial 98 finished with value: 0.6482412060301508 and parameters: {'C': 2323.758869835426, 'max_iter': 19}. Best is trial 0 with value: 0.6482412060301508.\u001b[0m\n",
      "\u001b[32m[I 2023-05-07 14:46:33,272]\u001b[0m Trial 99 finished with value: 0.6482412060301508 and parameters: {'C': 258.5711088555534, 'max_iter': 10}. Best is trial 0 with value: 0.6482412060301508.\u001b[0m\n"
     ]
    },
    {
     "name": "stdout",
     "output_type": "stream",
     "text": [
      "Best AUC score: 0.64824\n",
      "Best hyperparameters:\n",
      "\tC: 33409.53044679378\n",
      "\tmax_iter: 11\n"
     ]
    },
    {
     "data": {
      "text/html": [
       "<style>#sk-container-id-31 {color: black;background-color: white;}#sk-container-id-31 pre{padding: 0;}#sk-container-id-31 div.sk-toggleable {background-color: white;}#sk-container-id-31 label.sk-toggleable__label {cursor: pointer;display: block;width: 100%;margin-bottom: 0;padding: 0.3em;box-sizing: border-box;text-align: center;}#sk-container-id-31 label.sk-toggleable__label-arrow:before {content: \"▸\";float: left;margin-right: 0.25em;color: #696969;}#sk-container-id-31 label.sk-toggleable__label-arrow:hover:before {color: black;}#sk-container-id-31 div.sk-estimator:hover label.sk-toggleable__label-arrow:before {color: black;}#sk-container-id-31 div.sk-toggleable__content {max-height: 0;max-width: 0;overflow: hidden;text-align: left;background-color: #f0f8ff;}#sk-container-id-31 div.sk-toggleable__content pre {margin: 0.2em;color: black;border-radius: 0.25em;background-color: #f0f8ff;}#sk-container-id-31 input.sk-toggleable__control:checked~div.sk-toggleable__content {max-height: 200px;max-width: 100%;overflow: auto;}#sk-container-id-31 input.sk-toggleable__control:checked~label.sk-toggleable__label-arrow:before {content: \"▾\";}#sk-container-id-31 div.sk-estimator input.sk-toggleable__control:checked~label.sk-toggleable__label {background-color: #d4ebff;}#sk-container-id-31 div.sk-label input.sk-toggleable__control:checked~label.sk-toggleable__label {background-color: #d4ebff;}#sk-container-id-31 input.sk-hidden--visually {border: 0;clip: rect(1px 1px 1px 1px);clip: rect(1px, 1px, 1px, 1px);height: 1px;margin: -1px;overflow: hidden;padding: 0;position: absolute;width: 1px;}#sk-container-id-31 div.sk-estimator {font-family: monospace;background-color: #f0f8ff;border: 1px dotted black;border-radius: 0.25em;box-sizing: border-box;margin-bottom: 0.5em;}#sk-container-id-31 div.sk-estimator:hover {background-color: #d4ebff;}#sk-container-id-31 div.sk-parallel-item::after {content: \"\";width: 100%;border-bottom: 1px solid gray;flex-grow: 1;}#sk-container-id-31 div.sk-label:hover label.sk-toggleable__label {background-color: #d4ebff;}#sk-container-id-31 div.sk-serial::before {content: \"\";position: absolute;border-left: 1px solid gray;box-sizing: border-box;top: 0;bottom: 0;left: 50%;z-index: 0;}#sk-container-id-31 div.sk-serial {display: flex;flex-direction: column;align-items: center;background-color: white;padding-right: 0.2em;padding-left: 0.2em;position: relative;}#sk-container-id-31 div.sk-item {position: relative;z-index: 1;}#sk-container-id-31 div.sk-parallel {display: flex;align-items: stretch;justify-content: center;background-color: white;position: relative;}#sk-container-id-31 div.sk-item::before, #sk-container-id-31 div.sk-parallel-item::before {content: \"\";position: absolute;border-left: 1px solid gray;box-sizing: border-box;top: 0;bottom: 0;left: 50%;z-index: -1;}#sk-container-id-31 div.sk-parallel-item {display: flex;flex-direction: column;z-index: 1;position: relative;background-color: white;}#sk-container-id-31 div.sk-parallel-item:first-child::after {align-self: flex-end;width: 50%;}#sk-container-id-31 div.sk-parallel-item:last-child::after {align-self: flex-start;width: 50%;}#sk-container-id-31 div.sk-parallel-item:only-child::after {width: 0;}#sk-container-id-31 div.sk-dashed-wrapped {border: 1px dashed gray;margin: 0 0.4em 0.5em 0.4em;box-sizing: border-box;padding-bottom: 0.4em;background-color: white;}#sk-container-id-31 div.sk-label label {font-family: monospace;font-weight: bold;display: inline-block;line-height: 1.2em;}#sk-container-id-31 div.sk-label-container {text-align: center;}#sk-container-id-31 div.sk-container {/* jupyter's `normalize.less` sets `[hidden] { display: none; }` but bootstrap.min.css set `[hidden] { display: none !important; }` so we also need the `!important` here to be able to override the default hidden behavior on the sphinx rendered scikit-learn.org. See: https://github.com/scikit-learn/scikit-learn/issues/21755 */display: inline-block !important;position: relative;}#sk-container-id-31 div.sk-text-repr-fallback {display: none;}</style><div id=\"sk-container-id-31\" class=\"sk-top-container\"><div class=\"sk-text-repr-fallback\"><pre>LogisticRegression(C=33409.53044679378, max_iter=11, random_state=0)</pre><b>In a Jupyter environment, please rerun this cell to show the HTML representation or trust the notebook. <br />On GitHub, the HTML representation is unable to render, please try loading this page with nbviewer.org.</b></div><div class=\"sk-container\" hidden><div class=\"sk-item\"><div class=\"sk-estimator sk-toggleable\"><input class=\"sk-toggleable__control sk-hidden--visually\" id=\"sk-estimator-id-31\" type=\"checkbox\" checked><label for=\"sk-estimator-id-31\" class=\"sk-toggleable__label sk-toggleable__label-arrow\">LogisticRegression</label><div class=\"sk-toggleable__content\"><pre>LogisticRegression(C=33409.53044679378, max_iter=11, random_state=0)</pre></div></div></div></div></div>"
      ],
      "text/plain": [
       "LogisticRegression(C=33409.53044679378, max_iter=11, random_state=0)"
      ]
     },
     "execution_count": 189,
     "metadata": {},
     "output_type": "execute_result"
    }
   ],
   "source": [
    "study = optuna.create_study(direction='maximize')\n",
    "study.optimize(objective, n_trials=100)\n",
    "\n",
    "print(f\"Best AUC score: {study.best_value:.5f}\")\n",
    "print(\"Best hyperparameters:\")\n",
    "for key, value in study.best_params.items():\n",
    "    print(f\"\\t{key}: {value}\")\n",
    "\n",
    "# Train the final logistic regression model with the best hyperparameters\n",
    "best_params = study.best_params\n",
    "model = LogisticRegression(C=best_params['C'],\n",
    "                           max_iter=best_params['max_iter'],\n",
    "                           random_state=0)\n",
    "model.fit(X_train, y_train)"
   ]
  },
  {
   "cell_type": "code",
   "execution_count": 190,
   "id": "05c93b8f",
   "metadata": {},
   "outputs": [
    {
     "name": "stdout",
     "output_type": "stream",
     "text": [
      "Best accuracy score: 0.64824\n",
      "Best hyperparameters:\n",
      "\tC: 33409.53044679378\n",
      "\tmax_iter: 11\n"
     ]
    }
   ],
   "source": [
    "print(f\"Best accuracy score: {study.best_value:.5f}\")\n",
    "print(\"Best hyperparameters:\")\n",
    "for key, value in study.best_params.items():\n",
    "    print(f\"\\t{key}: {value}\")"
   ]
  },
  {
   "cell_type": "code",
   "execution_count": 142,
   "id": "2da5061b",
   "metadata": {},
   "outputs": [
    {
     "name": "stderr",
     "output_type": "stream",
     "text": [
      "\u001b[32m[I 2023-05-07 14:20:41,459]\u001b[0m A new study created in memory with name: no-name-46438eb8-6b5b-41e9-ae53-05a73abe7dc5\u001b[0m\n",
      "\u001b[32m[I 2023-05-07 14:20:41,479]\u001b[0m Trial 0 finished with value: 0.2656284606866002 and parameters: {'C': 0.21022382251398494, 'max_iter': 20}. Best is trial 0 with value: 0.2656284606866002.\u001b[0m\n",
      "\u001b[32m[I 2023-05-07 14:20:41,490]\u001b[0m Trial 1 finished with value: 0.2656284606866002 and parameters: {'C': 1.3252875552605867, 'max_iter': 10}. Best is trial 0 with value: 0.2656284606866002.\u001b[0m\n",
      "\u001b[32m[I 2023-05-07 14:20:41,511]\u001b[0m Trial 2 finished with value: 0.2656284606866002 and parameters: {'C': 0.0004057674071234978, 'max_iter': 11}. Best is trial 0 with value: 0.2656284606866002.\u001b[0m\n",
      "\u001b[32m[I 2023-05-07 14:20:41,527]\u001b[0m Trial 3 finished with value: 0.2656284606866002 and parameters: {'C': 97869.32728225668, 'max_iter': 15}. Best is trial 0 with value: 0.2656284606866002.\u001b[0m\n",
      "\u001b[32m[I 2023-05-07 14:20:41,552]\u001b[0m Trial 4 finished with value: 0.2656284606866002 and parameters: {'C': 4.3741210824792, 'max_iter': 15}. Best is trial 0 with value: 0.2656284606866002.\u001b[0m\n",
      "\u001b[32m[I 2023-05-07 14:20:41,560]\u001b[0m Trial 5 finished with value: 0.2656284606866002 and parameters: {'C': 2.3120440564399853, 'max_iter': 11}. Best is trial 0 with value: 0.2656284606866002.\u001b[0m\n",
      "\u001b[32m[I 2023-05-07 14:20:41,580]\u001b[0m Trial 6 finished with value: 0.2656284606866002 and parameters: {'C': 0.23261636720958345, 'max_iter': 14}. Best is trial 0 with value: 0.2656284606866002.\u001b[0m\n",
      "\u001b[32m[I 2023-05-07 14:20:41,599]\u001b[0m Trial 7 finished with value: 0.2656284606866002 and parameters: {'C': 22396.154299029204, 'max_iter': 11}. Best is trial 0 with value: 0.2656284606866002.\u001b[0m\n",
      "\u001b[32m[I 2023-05-07 14:20:41,613]\u001b[0m Trial 8 finished with value: 0.2656284606866002 and parameters: {'C': 27.267974555968678, 'max_iter': 19}. Best is trial 0 with value: 0.2656284606866002.\u001b[0m\n",
      "\u001b[32m[I 2023-05-07 14:20:41,630]\u001b[0m Trial 9 finished with value: 0.2656284606866002 and parameters: {'C': 8.345730203637246e-05, 'max_iter': 11}. Best is trial 0 with value: 0.2656284606866002.\u001b[0m\n",
      "\u001b[32m[I 2023-05-07 14:20:41,663]\u001b[0m Trial 10 finished with value: 0.2656284606866002 and parameters: {'C': 0.019785765170271283, 'max_iter': 20}. Best is trial 0 with value: 0.2656284606866002.\u001b[0m\n",
      "\u001b[32m[I 2023-05-07 14:20:41,695]\u001b[0m Trial 11 finished with value: 0.2656284606866002 and parameters: {'C': 0.02239509178626978, 'max_iter': 18}. Best is trial 0 with value: 0.2656284606866002.\u001b[0m\n",
      "\u001b[32m[I 2023-05-07 14:20:41,731]\u001b[0m Trial 12 finished with value: 0.2656284606866002 and parameters: {'C': 87.80013574681217, 'max_iter': 17}. Best is trial 0 with value: 0.2656284606866002.\u001b[0m\n",
      "\u001b[32m[I 2023-05-07 14:20:41,758]\u001b[0m Trial 13 finished with value: 0.2656284606866002 and parameters: {'C': 0.01173601629774617, 'max_iter': 13}. Best is trial 0 with value: 0.2656284606866002.\u001b[0m\n",
      "\u001b[32m[I 2023-05-07 14:20:41,776]\u001b[0m Trial 14 finished with value: 0.2656284606866002 and parameters: {'C': 146.29935039942194, 'max_iter': 17}. Best is trial 0 with value: 0.2656284606866002.\u001b[0m\n",
      "\u001b[32m[I 2023-05-07 14:20:41,805]\u001b[0m Trial 15 finished with value: 0.2656284606866002 and parameters: {'C': 1.632718165035819e-05, 'max_iter': 13}. Best is trial 0 with value: 0.2656284606866002.\u001b[0m\n",
      "\u001b[32m[I 2023-05-07 14:20:41,839]\u001b[0m Trial 16 finished with value: 0.2656284606866002 and parameters: {'C': 0.23352294158858786, 'max_iter': 20}. Best is trial 0 with value: 0.2656284606866002.\u001b[0m\n",
      "\u001b[32m[I 2023-05-07 14:20:41,879]\u001b[0m Trial 17 finished with value: 0.2656284606866002 and parameters: {'C': 0.0013298303807768215, 'max_iter': 10}. Best is trial 0 with value: 0.2656284606866002.\u001b[0m\n",
      "\u001b[32m[I 2023-05-07 14:20:41,922]\u001b[0m Trial 18 finished with value: 0.2656284606866002 and parameters: {'C': 0.2920355286810717, 'max_iter': 16}. Best is trial 0 with value: 0.2656284606866002.\u001b[0m\n",
      "\u001b[32m[I 2023-05-07 14:20:41,956]\u001b[0m Trial 19 finished with value: 0.2656284606866002 and parameters: {'C': 871.4759486637397, 'max_iter': 13}. Best is trial 0 with value: 0.2656284606866002.\u001b[0m\n",
      "\u001b[32m[I 2023-05-07 14:20:41,981]\u001b[0m Trial 20 finished with value: 0.2656284606866002 and parameters: {'C': 4.660760835966086, 'max_iter': 18}. Best is trial 0 with value: 0.2656284606866002.\u001b[0m\n",
      "\u001b[32m[I 2023-05-07 14:20:42,010]\u001b[0m Trial 21 finished with value: 0.2656284606866002 and parameters: {'C': 0.0030426304925166695, 'max_iter': 10}. Best is trial 0 with value: 0.2656284606866002.\u001b[0m\n",
      "\u001b[32m[I 2023-05-07 14:20:42,043]\u001b[0m Trial 22 finished with value: 0.2656284606866002 and parameters: {'C': 0.000725766663676351, 'max_iter': 12}. Best is trial 0 with value: 0.2656284606866002.\u001b[0m\n",
      "\u001b[32m[I 2023-05-07 14:20:42,075]\u001b[0m Trial 23 finished with value: 0.2656284606866002 and parameters: {'C': 0.000308754217899674, 'max_iter': 10}. Best is trial 0 with value: 0.2656284606866002.\u001b[0m\n",
      "\u001b[32m[I 2023-05-07 14:20:42,104]\u001b[0m Trial 24 finished with value: 0.2656284606866002 and parameters: {'C': 0.07020437222736944, 'max_iter': 12}. Best is trial 0 with value: 0.2656284606866002.\u001b[0m\n",
      "\u001b[32m[I 2023-05-07 14:20:42,140]\u001b[0m Trial 25 finished with value: 0.2656284606866002 and parameters: {'C': 0.005894851944722046, 'max_iter': 12}. Best is trial 0 with value: 0.2656284606866002.\u001b[0m\n",
      "\u001b[32m[I 2023-05-07 14:20:42,164]\u001b[0m Trial 26 finished with value: 0.2656284606866002 and parameters: {'C': 0.5923094725737452, 'max_iter': 14}. Best is trial 0 with value: 0.2656284606866002.\u001b[0m\n",
      "\u001b[32m[I 2023-05-07 14:20:42,194]\u001b[0m Trial 27 finished with value: 0.2656284606866002 and parameters: {'C': 0.04912777921877846, 'max_iter': 11}. Best is trial 0 with value: 0.2656284606866002.\u001b[0m\n",
      "\u001b[32m[I 2023-05-07 14:20:42,224]\u001b[0m Trial 28 finished with value: 0.2656284606866002 and parameters: {'C': 0.0002122938021541284, 'max_iter': 16}. Best is trial 0 with value: 0.2656284606866002.\u001b[0m\n",
      "\u001b[32m[I 2023-05-07 14:20:42,251]\u001b[0m Trial 29 finished with value: 0.2656284606866002 and parameters: {'C': 0.003069812649661656, 'max_iter': 15}. Best is trial 0 with value: 0.2656284606866002.\u001b[0m\n",
      "\u001b[32m[I 2023-05-07 14:20:42,280]\u001b[0m Trial 30 finished with value: 0.2656284606866002 and parameters: {'C': 1.1275505289776806e-05, 'max_iter': 10}. Best is trial 0 with value: 0.2656284606866002.\u001b[0m\n",
      "\u001b[32m[I 2023-05-07 14:20:42,309]\u001b[0m Trial 31 finished with value: 0.2656284606866002 and parameters: {'C': 95334.72257800169, 'max_iter': 16}. Best is trial 0 with value: 0.2656284606866002.\u001b[0m\n",
      "\u001b[32m[I 2023-05-07 14:20:42,340]\u001b[0m Trial 32 finished with value: 0.2656284606866002 and parameters: {'C': 1.627891155857405, 'max_iter': 14}. Best is trial 0 with value: 0.2656284606866002.\u001b[0m\n",
      "\u001b[32m[I 2023-05-07 14:20:42,373]\u001b[0m Trial 33 finished with value: 0.2656284606866002 and parameters: {'C': 6.584754088684663, 'max_iter': 15}. Best is trial 0 with value: 0.2656284606866002.\u001b[0m\n",
      "\u001b[32m[I 2023-05-07 14:20:42,402]\u001b[0m Trial 34 finished with value: 0.2656284606866002 and parameters: {'C': 1806.9046415638077, 'max_iter': 18}. Best is trial 0 with value: 0.2656284606866002.\u001b[0m\n",
      "\u001b[32m[I 2023-05-07 14:20:42,433]\u001b[0m Trial 35 finished with value: 0.2656284606866002 and parameters: {'C': 0.07323281074868065, 'max_iter': 19}. Best is trial 0 with value: 0.2656284606866002.\u001b[0m\n",
      "\u001b[32m[I 2023-05-07 14:20:42,459]\u001b[0m Trial 36 finished with value: 0.2656284606866002 and parameters: {'C': 1.1679872218585101, 'max_iter': 11}. Best is trial 0 with value: 0.2656284606866002.\u001b[0m\n",
      "\u001b[32m[I 2023-05-07 14:20:42,496]\u001b[0m Trial 37 finished with value: 0.2656284606866002 and parameters: {'C': 11.70651110796331, 'max_iter': 11}. Best is trial 0 with value: 0.2656284606866002.\u001b[0m\n",
      "\u001b[32m[I 2023-05-07 14:20:42,527]\u001b[0m Trial 38 finished with value: 0.2656284606866002 and parameters: {'C': 1.4924236751114015, 'max_iter': 12}. Best is trial 0 with value: 0.2656284606866002.\u001b[0m\n",
      "\u001b[32m[I 2023-05-07 14:20:42,558]\u001b[0m Trial 39 finished with value: 0.2656284606866002 and parameters: {'C': 15.090956276810797, 'max_iter': 19}. Best is trial 0 with value: 0.2656284606866002.\u001b[0m\n",
      "\u001b[32m[I 2023-05-07 14:20:42,591]\u001b[0m Trial 40 finished with value: 0.2656284606866002 and parameters: {'C': 5931.816456939957, 'max_iter': 17}. Best is trial 0 with value: 0.2656284606866002.\u001b[0m\n"
     ]
    },
    {
     "name": "stderr",
     "output_type": "stream",
     "text": [
      "\u001b[32m[I 2023-05-07 14:20:42,616]\u001b[0m Trial 41 finished with value: 0.2656284606866002 and parameters: {'C': 47.7529185114831, 'max_iter': 15}. Best is trial 0 with value: 0.2656284606866002.\u001b[0m\n",
      "\u001b[32m[I 2023-05-07 14:20:42,647]\u001b[0m Trial 42 finished with value: 0.2656284606866002 and parameters: {'C': 160.64230135691253, 'max_iter': 14}. Best is trial 0 with value: 0.2656284606866002.\u001b[0m\n",
      "\u001b[32m[I 2023-05-07 14:20:42,677]\u001b[0m Trial 43 finished with value: 0.2656284606866002 and parameters: {'C': 3.3716016886405793, 'max_iter': 13}. Best is trial 0 with value: 0.2656284606866002.\u001b[0m\n",
      "\u001b[32m[I 2023-05-07 14:20:42,717]\u001b[0m Trial 44 finished with value: 0.2656284606866002 and parameters: {'C': 0.6324309987752467, 'max_iter': 15}. Best is trial 0 with value: 0.2656284606866002.\u001b[0m\n",
      "\u001b[32m[I 2023-05-07 14:20:42,758]\u001b[0m Trial 45 finished with value: 0.2656284606866002 and parameters: {'C': 25.133603668618903, 'max_iter': 20}. Best is trial 0 with value: 0.2656284606866002.\u001b[0m\n",
      "\u001b[32m[I 2023-05-07 14:20:42,791]\u001b[0m Trial 46 finished with value: 0.2656284606866002 and parameters: {'C': 0.17706025551476165, 'max_iter': 16}. Best is trial 0 with value: 0.2656284606866002.\u001b[0m\n",
      "\u001b[32m[I 2023-05-07 14:20:42,822]\u001b[0m Trial 47 finished with value: 0.2656284606866002 and parameters: {'C': 0.016000472800361834, 'max_iter': 17}. Best is trial 0 with value: 0.2656284606866002.\u001b[0m\n",
      "\u001b[32m[I 2023-05-07 14:20:42,866]\u001b[0m Trial 48 finished with value: 0.2656284606866002 and parameters: {'C': 341.60721224194384, 'max_iter': 10}. Best is trial 0 with value: 0.2656284606866002.\u001b[0m\n",
      "\u001b[32m[I 2023-05-07 14:20:42,908]\u001b[0m Trial 49 finished with value: 0.2656284606866002 and parameters: {'C': 3.850355765928771, 'max_iter': 19}. Best is trial 0 with value: 0.2656284606866002.\u001b[0m\n",
      "\u001b[32m[I 2023-05-07 14:20:42,947]\u001b[0m Trial 50 finished with value: 0.2656284606866002 and parameters: {'C': 4.177183713502623e-05, 'max_iter': 14}. Best is trial 0 with value: 0.2656284606866002.\u001b[0m\n",
      "\u001b[32m[I 2023-05-07 14:20:42,984]\u001b[0m Trial 51 finished with value: 0.2656284606866002 and parameters: {'C': 32.4257344243933, 'max_iter': 11}. Best is trial 0 with value: 0.2656284606866002.\u001b[0m\n",
      "\u001b[32m[I 2023-05-07 14:20:43,018]\u001b[0m Trial 52 finished with value: 0.2656284606866002 and parameters: {'C': 70.03940577126838, 'max_iter': 12}. Best is trial 0 with value: 0.2656284606866002.\u001b[0m\n",
      "\u001b[32m[I 2023-05-07 14:20:43,058]\u001b[0m Trial 53 finished with value: 0.2656284606866002 and parameters: {'C': 0.14974302126987094, 'max_iter': 10}. Best is trial 0 with value: 0.2656284606866002.\u001b[0m\n",
      "\u001b[32m[I 2023-05-07 14:20:43,091]\u001b[0m Trial 54 finished with value: 0.2656284606866002 and parameters: {'C': 0.41673439273202645, 'max_iter': 11}. Best is trial 0 with value: 0.2656284606866002.\u001b[0m\n",
      "\u001b[32m[I 2023-05-07 14:20:43,123]\u001b[0m Trial 55 finished with value: 0.2656284606866002 and parameters: {'C': 0.04611210807292903, 'max_iter': 13}. Best is trial 0 with value: 0.2656284606866002.\u001b[0m\n",
      "\u001b[32m[I 2023-05-07 14:20:43,159]\u001b[0m Trial 56 finished with value: 0.2656284606866002 and parameters: {'C': 0.00818835039690069, 'max_iter': 12}. Best is trial 0 with value: 0.2656284606866002.\u001b[0m\n",
      "\u001b[32m[I 2023-05-07 14:20:43,190]\u001b[0m Trial 57 finished with value: 0.2656284606866002 and parameters: {'C': 0.3858032956800723, 'max_iter': 18}. Best is trial 0 with value: 0.2656284606866002.\u001b[0m\n",
      "\u001b[32m[I 2023-05-07 14:20:43,222]\u001b[0m Trial 58 finished with value: 0.2656284606866002 and parameters: {'C': 2.2237756852881443, 'max_iter': 13}. Best is trial 0 with value: 0.2656284606866002.\u001b[0m\n",
      "\u001b[32m[I 2023-05-07 14:20:43,258]\u001b[0m Trial 59 finished with value: 0.2656284606866002 and parameters: {'C': 12.772921918363641, 'max_iter': 10}. Best is trial 0 with value: 0.2656284606866002.\u001b[0m\n",
      "\u001b[32m[I 2023-05-07 14:20:43,292]\u001b[0m Trial 60 finished with value: 0.2656284606866002 and parameters: {'C': 0.024249885676164575, 'max_iter': 11}. Best is trial 0 with value: 0.2656284606866002.\u001b[0m\n",
      "\u001b[32m[I 2023-05-07 14:20:43,325]\u001b[0m Trial 61 finished with value: 0.2656284606866002 and parameters: {'C': 0.9199653048934524, 'max_iter': 15}. Best is trial 0 with value: 0.2656284606866002.\u001b[0m\n",
      "\u001b[32m[I 2023-05-07 14:20:43,383]\u001b[0m Trial 62 finished with value: 0.2656284606866002 and parameters: {'C': 7.2281474494007645, 'max_iter': 16}. Best is trial 0 with value: 0.2656284606866002.\u001b[0m\n",
      "\u001b[32m[I 2023-05-07 14:20:43,415]\u001b[0m Trial 63 finished with value: 0.2656284606866002 and parameters: {'C': 0.1724004768374876, 'max_iter': 14}. Best is trial 0 with value: 0.2656284606866002.\u001b[0m\n",
      "\u001b[32m[I 2023-05-07 14:20:43,443]\u001b[0m Trial 64 finished with value: 0.2656284606866002 and parameters: {'C': 0.0013754964986843166, 'max_iter': 15}. Best is trial 0 with value: 0.2656284606866002.\u001b[0m\n",
      "\u001b[32m[I 2023-05-07 14:20:43,480]\u001b[0m Trial 65 finished with value: 0.2656284606866002 and parameters: {'C': 1.0878017462530194, 'max_iter': 14}. Best is trial 0 with value: 0.2656284606866002.\u001b[0m\n",
      "\u001b[32m[I 2023-05-07 14:20:43,514]\u001b[0m Trial 66 finished with value: 0.2656284606866002 and parameters: {'C': 2.363297840528701, 'max_iter': 10}. Best is trial 0 with value: 0.2656284606866002.\u001b[0m\n",
      "\u001b[32m[I 2023-05-07 14:20:43,541]\u001b[0m Trial 67 finished with value: 0.2656284606866002 and parameters: {'C': 0.09568572414169471, 'max_iter': 12}. Best is trial 0 with value: 0.2656284606866002.\u001b[0m\n",
      "\u001b[32m[I 2023-05-07 14:20:43,573]\u001b[0m Trial 68 finished with value: 0.2656284606866002 and parameters: {'C': 0.49686622277295833, 'max_iter': 16}. Best is trial 0 with value: 0.2656284606866002.\u001b[0m\n",
      "\u001b[32m[I 2023-05-07 14:20:43,608]\u001b[0m Trial 69 finished with value: 0.2656284606866002 and parameters: {'C': 0.023300924840008484, 'max_iter': 11}. Best is trial 0 with value: 0.2656284606866002.\u001b[0m\n",
      "\u001b[32m[I 2023-05-07 14:20:43,641]\u001b[0m Trial 70 finished with value: 0.2656284606866002 and parameters: {'C': 5.73096587874841, 'max_iter': 15}. Best is trial 0 with value: 0.2656284606866002.\u001b[0m\n",
      "\u001b[32m[I 2023-05-07 14:20:43,676]\u001b[0m Trial 71 finished with value: 0.2656284606866002 and parameters: {'C': 46927.07310143791, 'max_iter': 11}. Best is trial 0 with value: 0.2656284606866002.\u001b[0m\n",
      "\u001b[32m[I 2023-05-07 14:20:43,706]\u001b[0m Trial 72 finished with value: 0.2656284606866002 and parameters: {'C': 0.24127326320004622, 'max_iter': 13}. Best is trial 0 with value: 0.2656284606866002.\u001b[0m\n",
      "\u001b[32m[I 2023-05-07 14:20:43,742]\u001b[0m Trial 73 finished with value: 0.2656284606866002 and parameters: {'C': 20562.974232020126, 'max_iter': 10}. Best is trial 0 with value: 0.2656284606866002.\u001b[0m\n",
      "\u001b[32m[I 2023-05-07 14:20:43,775]\u001b[0m Trial 74 finished with value: 0.2656284606866002 and parameters: {'C': 7582.380289875239, 'max_iter': 11}. Best is trial 0 with value: 0.2656284606866002.\u001b[0m\n",
      "\u001b[32m[I 2023-05-07 14:20:43,810]\u001b[0m Trial 75 finished with value: 0.2656284606866002 and parameters: {'C': 0.7157143213548254, 'max_iter': 17}. Best is trial 0 with value: 0.2656284606866002.\u001b[0m\n",
      "\u001b[32m[I 2023-05-07 14:20:43,842]\u001b[0m Trial 76 finished with value: 0.2656284606866002 and parameters: {'C': 0.00032620997548537834, 'max_iter': 12}. Best is trial 0 with value: 0.2656284606866002.\u001b[0m\n",
      "\u001b[32m[I 2023-05-07 14:20:43,878]\u001b[0m Trial 77 finished with value: 0.2656284606866002 and parameters: {'C': 0.0036465227148395076, 'max_iter': 10}. Best is trial 0 with value: 0.2656284606866002.\u001b[0m\n",
      "\u001b[32m[I 2023-05-07 14:20:43,916]\u001b[0m Trial 78 finished with value: 0.2656284606866002 and parameters: {'C': 2.8707043861866146, 'max_iter': 11}. Best is trial 0 with value: 0.2656284606866002.\u001b[0m\n",
      "\u001b[32m[I 2023-05-07 14:20:43,947]\u001b[0m Trial 79 finished with value: 0.2656284606866002 and parameters: {'C': 0.2945018940613665, 'max_iter': 16}. Best is trial 0 with value: 0.2656284606866002.\u001b[0m\n",
      "\u001b[32m[I 2023-05-07 14:20:43,983]\u001b[0m Trial 80 finished with value: 0.2656284606866002 and parameters: {'C': 1.4136064540143032, 'max_iter': 15}. Best is trial 0 with value: 0.2656284606866002.\u001b[0m\n",
      "\u001b[32m[I 2023-05-07 14:20:44,022]\u001b[0m Trial 81 finished with value: 0.2656284606866002 and parameters: {'C': 151.2100616900824, 'max_iter': 20}. Best is trial 0 with value: 0.2656284606866002.\u001b[0m\n",
      "\u001b[32m[I 2023-05-07 14:20:44,045]\u001b[0m Trial 82 finished with value: 0.2656284606866002 and parameters: {'C': 9.396370218413034, 'max_iter': 19}. Best is trial 0 with value: 0.2656284606866002.\u001b[0m\n"
     ]
    },
    {
     "name": "stderr",
     "output_type": "stream",
     "text": [
      "\u001b[32m[I 2023-05-07 14:20:44,083]\u001b[0m Trial 83 finished with value: 0.2656284606866002 and parameters: {'C': 21.045584619542574, 'max_iter': 20}. Best is trial 0 with value: 0.2656284606866002.\u001b[0m\n",
      "\u001b[32m[I 2023-05-07 14:20:44,108]\u001b[0m Trial 84 finished with value: 0.2656284606866002 and parameters: {'C': 46.84755691456642, 'max_iter': 20}. Best is trial 0 with value: 0.2656284606866002.\u001b[0m\n",
      "\u001b[32m[I 2023-05-07 14:20:44,141]\u001b[0m Trial 85 finished with value: 0.2656284606866002 and parameters: {'C': 4.449829773570155, 'max_iter': 18}. Best is trial 0 with value: 0.2656284606866002.\u001b[0m\n",
      "\u001b[32m[I 2023-05-07 14:20:44,182]\u001b[0m Trial 86 finished with value: 0.2656284606866002 and parameters: {'C': 16.648945564758634, 'max_iter': 19}. Best is trial 0 with value: 0.2656284606866002.\u001b[0m\n",
      "\u001b[32m[I 2023-05-07 14:20:44,224]\u001b[0m Trial 87 finished with value: 0.2656284606866002 and parameters: {'C': 983.2066748290381, 'max_iter': 17}. Best is trial 0 with value: 0.2656284606866002.\u001b[0m\n",
      "\u001b[32m[I 2023-05-07 14:20:44,258]\u001b[0m Trial 88 finished with value: 0.2656284606866002 and parameters: {'C': 2.173237388954298, 'max_iter': 10}. Best is trial 0 with value: 0.2656284606866002.\u001b[0m\n",
      "\u001b[32m[I 2023-05-07 14:20:44,292]\u001b[0m Trial 89 finished with value: 0.2656284606866002 and parameters: {'C': 0.937643467326644, 'max_iter': 14}. Best is trial 0 with value: 0.2656284606866002.\u001b[0m\n",
      "\u001b[32m[I 2023-05-07 14:20:44,325]\u001b[0m Trial 90 finished with value: 0.2656284606866002 and parameters: {'C': 97930.64882309374, 'max_iter': 11}. Best is trial 0 with value: 0.2656284606866002.\u001b[0m\n",
      "\u001b[32m[I 2023-05-07 14:20:44,359]\u001b[0m Trial 91 finished with value: 0.2656284606866002 and parameters: {'C': 8.651534268734541e-05, 'max_iter': 12}. Best is trial 0 with value: 0.2656284606866002.\u001b[0m\n",
      "\u001b[32m[I 2023-05-07 14:20:44,394]\u001b[0m Trial 92 finished with value: 0.2656284606866002 and parameters: {'C': 5.870735704008769, 'max_iter': 11}. Best is trial 0 with value: 0.2656284606866002.\u001b[0m\n",
      "\u001b[32m[I 2023-05-07 14:20:44,423]\u001b[0m Trial 93 finished with value: 0.2656284606866002 and parameters: {'C': 0.11574707563858955, 'max_iter': 12}. Best is trial 0 with value: 0.2656284606866002.\u001b[0m\n",
      "\u001b[32m[I 2023-05-07 14:20:44,457]\u001b[0m Trial 94 finished with value: 0.2656284606866002 and parameters: {'C': 0.4397134278580195, 'max_iter': 10}. Best is trial 0 with value: 0.2656284606866002.\u001b[0m\n",
      "\u001b[32m[I 2023-05-07 14:20:44,489]\u001b[0m Trial 95 finished with value: 0.2656284606866002 and parameters: {'C': 2.3085473548794426e-05, 'max_iter': 11}. Best is trial 0 with value: 0.2656284606866002.\u001b[0m\n",
      "\u001b[32m[I 2023-05-07 14:20:44,523]\u001b[0m Trial 96 finished with value: 0.2656284606866002 and parameters: {'C': 0.044286876499659414, 'max_iter': 15}. Best is trial 0 with value: 0.2656284606866002.\u001b[0m\n",
      "\u001b[32m[I 2023-05-07 14:20:44,541]\u001b[0m Trial 97 finished with value: 0.2656284606866002 and parameters: {'C': 1.6238806323651451, 'max_iter': 20}. Best is trial 0 with value: 0.2656284606866002.\u001b[0m\n",
      "\u001b[32m[I 2023-05-07 14:20:44,574]\u001b[0m Trial 98 finished with value: 0.2656284606866002 and parameters: {'C': 82.07118600395904, 'max_iter': 14}. Best is trial 0 with value: 0.2656284606866002.\u001b[0m\n",
      "\u001b[32m[I 2023-05-07 14:20:44,620]\u001b[0m Trial 99 finished with value: 0.2656284606866002 and parameters: {'C': 3.2061374195045658, 'max_iter': 11}. Best is trial 0 with value: 0.2656284606866002.\u001b[0m\n"
     ]
    },
    {
     "name": "stdout",
     "output_type": "stream",
     "text": [
      "Best AUC score: 0.26563\n",
      "Best hyperparameters:\n",
      "\tC: 0.21022382251398494\n",
      "\tmax_iter: 20\n"
     ]
    }
   ],
   "source": [
    "study = optuna.create_study(direction='maximize')\n",
    "study.optimize(objective, n_trials=100)\n",
    "\n",
    "print(f\"Best AUC score: {study.best_value:.5f}\")\n",
    "print(\"Best hyperparameters:\")\n",
    "for key, value in study.best_params.items():\n",
    "    print(f\"\\t{key}: {value}\")\n",
    "\n",
    "# Train the final logistic regression model with the best hyperparameters\n",
    "best_params = study.best_params"
   ]
  },
  {
   "cell_type": "code",
   "execution_count": 143,
   "id": "24e69996",
   "metadata": {},
   "outputs": [
    {
     "data": {
      "text/html": [
       "<style>#sk-container-id-22 {color: black;background-color: white;}#sk-container-id-22 pre{padding: 0;}#sk-container-id-22 div.sk-toggleable {background-color: white;}#sk-container-id-22 label.sk-toggleable__label {cursor: pointer;display: block;width: 100%;margin-bottom: 0;padding: 0.3em;box-sizing: border-box;text-align: center;}#sk-container-id-22 label.sk-toggleable__label-arrow:before {content: \"▸\";float: left;margin-right: 0.25em;color: #696969;}#sk-container-id-22 label.sk-toggleable__label-arrow:hover:before {color: black;}#sk-container-id-22 div.sk-estimator:hover label.sk-toggleable__label-arrow:before {color: black;}#sk-container-id-22 div.sk-toggleable__content {max-height: 0;max-width: 0;overflow: hidden;text-align: left;background-color: #f0f8ff;}#sk-container-id-22 div.sk-toggleable__content pre {margin: 0.2em;color: black;border-radius: 0.25em;background-color: #f0f8ff;}#sk-container-id-22 input.sk-toggleable__control:checked~div.sk-toggleable__content {max-height: 200px;max-width: 100%;overflow: auto;}#sk-container-id-22 input.sk-toggleable__control:checked~label.sk-toggleable__label-arrow:before {content: \"▾\";}#sk-container-id-22 div.sk-estimator input.sk-toggleable__control:checked~label.sk-toggleable__label {background-color: #d4ebff;}#sk-container-id-22 div.sk-label input.sk-toggleable__control:checked~label.sk-toggleable__label {background-color: #d4ebff;}#sk-container-id-22 input.sk-hidden--visually {border: 0;clip: rect(1px 1px 1px 1px);clip: rect(1px, 1px, 1px, 1px);height: 1px;margin: -1px;overflow: hidden;padding: 0;position: absolute;width: 1px;}#sk-container-id-22 div.sk-estimator {font-family: monospace;background-color: #f0f8ff;border: 1px dotted black;border-radius: 0.25em;box-sizing: border-box;margin-bottom: 0.5em;}#sk-container-id-22 div.sk-estimator:hover {background-color: #d4ebff;}#sk-container-id-22 div.sk-parallel-item::after {content: \"\";width: 100%;border-bottom: 1px solid gray;flex-grow: 1;}#sk-container-id-22 div.sk-label:hover label.sk-toggleable__label {background-color: #d4ebff;}#sk-container-id-22 div.sk-serial::before {content: \"\";position: absolute;border-left: 1px solid gray;box-sizing: border-box;top: 0;bottom: 0;left: 50%;z-index: 0;}#sk-container-id-22 div.sk-serial {display: flex;flex-direction: column;align-items: center;background-color: white;padding-right: 0.2em;padding-left: 0.2em;position: relative;}#sk-container-id-22 div.sk-item {position: relative;z-index: 1;}#sk-container-id-22 div.sk-parallel {display: flex;align-items: stretch;justify-content: center;background-color: white;position: relative;}#sk-container-id-22 div.sk-item::before, #sk-container-id-22 div.sk-parallel-item::before {content: \"\";position: absolute;border-left: 1px solid gray;box-sizing: border-box;top: 0;bottom: 0;left: 50%;z-index: -1;}#sk-container-id-22 div.sk-parallel-item {display: flex;flex-direction: column;z-index: 1;position: relative;background-color: white;}#sk-container-id-22 div.sk-parallel-item:first-child::after {align-self: flex-end;width: 50%;}#sk-container-id-22 div.sk-parallel-item:last-child::after {align-self: flex-start;width: 50%;}#sk-container-id-22 div.sk-parallel-item:only-child::after {width: 0;}#sk-container-id-22 div.sk-dashed-wrapped {border: 1px dashed gray;margin: 0 0.4em 0.5em 0.4em;box-sizing: border-box;padding-bottom: 0.4em;background-color: white;}#sk-container-id-22 div.sk-label label {font-family: monospace;font-weight: bold;display: inline-block;line-height: 1.2em;}#sk-container-id-22 div.sk-label-container {text-align: center;}#sk-container-id-22 div.sk-container {/* jupyter's `normalize.less` sets `[hidden] { display: none; }` but bootstrap.min.css set `[hidden] { display: none !important; }` so we also need the `!important` here to be able to override the default hidden behavior on the sphinx rendered scikit-learn.org. See: https://github.com/scikit-learn/scikit-learn/issues/21755 */display: inline-block !important;position: relative;}#sk-container-id-22 div.sk-text-repr-fallback {display: none;}</style><div id=\"sk-container-id-22\" class=\"sk-top-container\"><div class=\"sk-text-repr-fallback\"><pre>LogisticRegression(C=0.21022382251398494, max_iter=20, random_state=0)</pre><b>In a Jupyter environment, please rerun this cell to show the HTML representation or trust the notebook. <br />On GitHub, the HTML representation is unable to render, please try loading this page with nbviewer.org.</b></div><div class=\"sk-container\" hidden><div class=\"sk-item\"><div class=\"sk-estimator sk-toggleable\"><input class=\"sk-toggleable__control sk-hidden--visually\" id=\"sk-estimator-id-22\" type=\"checkbox\" checked><label for=\"sk-estimator-id-22\" class=\"sk-toggleable__label sk-toggleable__label-arrow\">LogisticRegression</label><div class=\"sk-toggleable__content\"><pre>LogisticRegression(C=0.21022382251398494, max_iter=20, random_state=0)</pre></div></div></div></div></div>"
      ],
      "text/plain": [
       "LogisticRegression(C=0.21022382251398494, max_iter=20, random_state=0)"
      ]
     },
     "execution_count": 143,
     "metadata": {},
     "output_type": "execute_result"
    }
   ],
   "source": [
    "model = LogisticRegression(C=best_params['C'],\n",
    "                           max_iter=best_params['max_iter'],\n",
    "                           random_state=0)\n",
    "model.fit(X_train, y_train)"
   ]
  },
  {
   "cell_type": "code",
   "execution_count": 144,
   "id": "5c0fdc2c",
   "metadata": {},
   "outputs": [],
   "source": [
    "y_predict = model.predict(X_test)"
   ]
  },
  {
   "cell_type": "code",
   "execution_count": 145,
   "id": "410f1c54",
   "metadata": {},
   "outputs": [
    {
     "name": "stdout",
     "output_type": "stream",
     "text": [
      "              precision    recall  f1-score   support\n",
      "\n",
      "           0       0.65      1.00      0.79       258\n",
      "           1       0.00      0.00      0.00       140\n",
      "\n",
      "    accuracy                           0.65       398\n",
      "   macro avg       0.32      0.50      0.39       398\n",
      "weighted avg       0.42      0.65      0.51       398\n",
      "\n"
     ]
    }
   ],
   "source": [
    "print(classification_report(y_test, y_predict))"
   ]
  },
  {
   "cell_type": "code",
   "execution_count": 146,
   "id": "fdfd4b8f",
   "metadata": {},
   "outputs": [
    {
     "data": {
      "image/png": "[encoded data removed]",
      "text/plain": [
       "<Figure size 640x480 with 2 Axes>"
      ]
     },
     "metadata": {},
     "output_type": "display_data"
    }
   ],
   "source": [
    "plot_confusion_matrix(model,X_test,y_test, cmap=plt.cm.Blues)\n",
    "plt.xticks([0,1],['Yes', 'No'])\n",
    "plt.yticks([0,1], ['Yes', 'No']);"
   ]
  },
  {
   "cell_type": "markdown",
   "id": "93816048",
   "metadata": {},
   "source": [
    "# Decision Tree with Optuna"
   ]
  },
  {
   "cell_type": "code",
   "execution_count": 191,
   "id": "def5d840",
   "metadata": {},
   "outputs": [],
   "source": [
    "def objective(trial):\n",
    "\n",
    "    # Define the hyperparameters to optimize\n",
    "    criterion = trial.suggest_categorical('criterion', ['gini', 'entropy'])\n",
    "    splitter = trial.suggest_categorical('splitter', ['best', 'random'])\n",
    "    max_depth = trial.suggest_int('max_depth', 1, 32)\n",
    "    min_samples_split = trial.suggest_int('min_samples_split', 2, 10)\n",
    "    min_samples_leaf = trial.suggest_int('min_samples_leaf', 1, 10)\n",
    "\n",
    "    \n",
    "    # Train a decision tree model with the current hyperparameters\n",
    "    model = DecisionTreeClassifier(criterion=criterion,\n",
    "                                    splitter=splitter,\n",
    "                                    max_depth=max_depth,\n",
    "                                    min_samples_split=min_samples_split,\n",
    "                                    min_samples_leaf=min_samples_leaf,\n",
    "                                    random_state=0)\n",
    "    model.fit(X_train, y_train)\n",
    "\n",
    "    \n",
    "    # Calculate the accuracy score for the model on the test data\n",
    "    y_pred = model.predict(X_test)\n",
    "    accuracy = accuracy_score(y_test, y_pred)\n",
    "\n",
    "    # Report the accuracy score to Optuna\n",
    "    return accuracy"
   ]
  },
  {
   "cell_type": "code",
   "execution_count": 192,
   "id": "a2205f9e",
   "metadata": {},
   "outputs": [
    {
     "name": "stderr",
     "output_type": "stream",
     "text": [
      "\u001b[32m[I 2023-05-07 14:48:32,696]\u001b[0m A new study created in memory with name: no-name-280b2c0e-bac5-421d-9203-51e1ee471b9e\u001b[0m\n",
      "\u001b[32m[I 2023-05-07 14:48:32,711]\u001b[0m Trial 0 finished with value: 0.8241206030150754 and parameters: {'criterion': 'gini', 'splitter': 'best', 'max_depth': 3, 'min_samples_split': 4, 'min_samples_leaf': 10}. Best is trial 0 with value: 0.8241206030150754.\u001b[0m\n",
      "\u001b[32m[I 2023-05-07 14:48:32,727]\u001b[0m Trial 1 finished with value: 0.7839195979899497 and parameters: {'criterion': 'gini', 'splitter': 'best', 'max_depth': 2, 'min_samples_split': 6, 'min_samples_leaf': 8}. Best is trial 0 with value: 0.8241206030150754.\u001b[0m\n",
      "\u001b[32m[I 2023-05-07 14:48:32,743]\u001b[0m Trial 2 finished with value: 0.8241206030150754 and parameters: {'criterion': 'gini', 'splitter': 'best', 'max_depth': 21, 'min_samples_split': 10, 'min_samples_leaf': 10}. Best is trial 0 with value: 0.8241206030150754.\u001b[0m\n",
      "\u001b[32m[I 2023-05-07 14:48:32,743]\u001b[0m Trial 3 finished with value: 0.7864321608040201 and parameters: {'criterion': 'gini', 'splitter': 'best', 'max_depth': 23, 'min_samples_split': 4, 'min_samples_leaf': 1}. Best is trial 0 with value: 0.8241206030150754.\u001b[0m\n",
      "\u001b[32m[I 2023-05-07 14:48:32,758]\u001b[0m Trial 4 finished with value: 0.8090452261306532 and parameters: {'criterion': 'gini', 'splitter': 'random', 'max_depth': 8, 'min_samples_split': 5, 'min_samples_leaf': 3}. Best is trial 0 with value: 0.8241206030150754.\u001b[0m\n",
      "\u001b[32m[I 2023-05-07 14:48:32,758]\u001b[0m Trial 5 finished with value: 0.7914572864321608 and parameters: {'criterion': 'entropy', 'splitter': 'best', 'max_depth': 24, 'min_samples_split': 10, 'min_samples_leaf': 2}. Best is trial 0 with value: 0.8241206030150754.\u001b[0m\n",
      "\u001b[32m[I 2023-05-07 14:48:32,774]\u001b[0m Trial 6 finished with value: 0.7738693467336684 and parameters: {'criterion': 'gini', 'splitter': 'random', 'max_depth': 20, 'min_samples_split': 6, 'min_samples_leaf': 1}. Best is trial 0 with value: 0.8241206030150754.\u001b[0m\n",
      "\u001b[32m[I 2023-05-07 14:48:32,789]\u001b[0m Trial 7 finished with value: 0.6482412060301508 and parameters: {'criterion': 'entropy', 'splitter': 'random', 'max_depth': 1, 'min_samples_split': 5, 'min_samples_leaf': 1}. Best is trial 0 with value: 0.8241206030150754.\u001b[0m\n",
      "\u001b[32m[I 2023-05-07 14:48:32,789]\u001b[0m Trial 8 finished with value: 0.8140703517587939 and parameters: {'criterion': 'gini', 'splitter': 'random', 'max_depth': 26, 'min_samples_split': 10, 'min_samples_leaf': 10}. Best is trial 0 with value: 0.8241206030150754.\u001b[0m\n",
      "\u001b[32m[I 2023-05-07 14:48:32,805]\u001b[0m Trial 9 finished with value: 0.6482412060301508 and parameters: {'criterion': 'entropy', 'splitter': 'random', 'max_depth': 1, 'min_samples_split': 4, 'min_samples_leaf': 9}. Best is trial 0 with value: 0.8241206030150754.\u001b[0m\n"
     ]
    }
   ],
   "source": [
    "study = optuna.create_study(direction='maximize')\n",
    "study.optimize(objective, n_trials=10);"
   ]
  },
  {
   "cell_type": "code",
   "execution_count": 193,
   "id": "146828a7",
   "metadata": {},
   "outputs": [
    {
     "name": "stdout",
     "output_type": "stream",
     "text": [
      "3.1.1\n"
     ]
    }
   ],
   "source": [
    "import optuna\n",
    "print(optuna.__version__)"
   ]
  },
  {
   "cell_type": "code",
   "execution_count": 194,
   "id": "f33b8840",
   "metadata": {},
   "outputs": [
    {
     "name": "stdout",
     "output_type": "stream",
     "text": [
      "Best AUC score: 0.82412\n",
      "Best hyperparameters:\n",
      "\tcriterion: gini\n",
      "\tsplitter: best\n",
      "\tmax_depth: 3\n",
      "\tmin_samples_split: 4\n",
      "\tmin_samples_leaf: 10\n"
     ]
    }
   ],
   "source": [
    "print(f\"Best AUC score: {study.best_value:.5f}\")\n",
    "print(\"Best hyperparameters:\")\n",
    "for key, value in study.best_params.items():\n",
    "    print(f\"\\t{key}: {value}\")"
   ]
  },
  {
   "cell_type": "code",
   "execution_count": 195,
   "id": "1492d9c9",
   "metadata": {},
   "outputs": [],
   "source": [
    "best_params = study.best_params"
   ]
  },
  {
   "cell_type": "code",
   "execution_count": 196,
   "id": "466ed7fb",
   "metadata": {},
   "outputs": [
    {
     "data": {
      "text/plain": [
       "{'criterion': 'gini',\n",
       " 'splitter': 'best',\n",
       " 'max_depth': 3,\n",
       " 'min_samples_split': 4,\n",
       " 'min_samples_leaf': 10}"
      ]
     },
     "execution_count": 196,
     "metadata": {},
     "output_type": "execute_result"
    }
   ],
   "source": [
    "best_params"
   ]
  },
  {
   "cell_type": "code",
   "execution_count": 197,
   "id": "4756cec2",
   "metadata": {},
   "outputs": [
    {
     "data": {
      "text/html": [
       "<style>#sk-container-id-32 {color: black;background-color: white;}#sk-container-id-32 pre{padding: 0;}#sk-container-id-32 div.sk-toggleable {background-color: white;}#sk-container-id-32 label.sk-toggleable__label {cursor: pointer;display: block;width: 100%;margin-bottom: 0;padding: 0.3em;box-sizing: border-box;text-align: center;}#sk-container-id-32 label.sk-toggleable__label-arrow:before {content: \"▸\";float: left;margin-right: 0.25em;color: #696969;}#sk-container-id-32 label.sk-toggleable__label-arrow:hover:before {color: black;}#sk-container-id-32 div.sk-estimator:hover label.sk-toggleable__label-arrow:before {color: black;}#sk-container-id-32 div.sk-toggleable__content {max-height: 0;max-width: 0;overflow: hidden;text-align: left;background-color: #f0f8ff;}#sk-container-id-32 div.sk-toggleable__content pre {margin: 0.2em;color: black;border-radius: 0.25em;background-color: #f0f8ff;}#sk-container-id-32 input.sk-toggleable__control:checked~div.sk-toggleable__content {max-height: 200px;max-width: 100%;overflow: auto;}#sk-container-id-32 input.sk-toggleable__control:checked~label.sk-toggleable__label-arrow:before {content: \"▾\";}#sk-container-id-32 div.sk-estimator input.sk-toggleable__control:checked~label.sk-toggleable__label {background-color: #d4ebff;}#sk-container-id-32 div.sk-label input.sk-toggleable__control:checked~label.sk-toggleable__label {background-color: #d4ebff;}#sk-container-id-32 input.sk-hidden--visually {border: 0;clip: rect(1px 1px 1px 1px);clip: rect(1px, 1px, 1px, 1px);height: 1px;margin: -1px;overflow: hidden;padding: 0;position: absolute;width: 1px;}#sk-container-id-32 div.sk-estimator {font-family: monospace;background-color: #f0f8ff;border: 1px dotted black;border-radius: 0.25em;box-sizing: border-box;margin-bottom: 0.5em;}#sk-container-id-32 div.sk-estimator:hover {background-color: #d4ebff;}#sk-container-id-32 div.sk-parallel-item::after {content: \"\";width: 100%;border-bottom: 1px solid gray;flex-grow: 1;}#sk-container-id-32 div.sk-label:hover label.sk-toggleable__label {background-color: #d4ebff;}#sk-container-id-32 div.sk-serial::before {content: \"\";position: absolute;border-left: 1px solid gray;box-sizing: border-box;top: 0;bottom: 0;left: 50%;z-index: 0;}#sk-container-id-32 div.sk-serial {display: flex;flex-direction: column;align-items: center;background-color: white;padding-right: 0.2em;padding-left: 0.2em;position: relative;}#sk-container-id-32 div.sk-item {position: relative;z-index: 1;}#sk-container-id-32 div.sk-parallel {display: flex;align-items: stretch;justify-content: center;background-color: white;position: relative;}#sk-container-id-32 div.sk-item::before, #sk-container-id-32 div.sk-parallel-item::before {content: \"\";position: absolute;border-left: 1px solid gray;box-sizing: border-box;top: 0;bottom: 0;left: 50%;z-index: -1;}#sk-container-id-32 div.sk-parallel-item {display: flex;flex-direction: column;z-index: 1;position: relative;background-color: white;}#sk-container-id-32 div.sk-parallel-item:first-child::after {align-self: flex-end;width: 50%;}#sk-container-id-32 div.sk-parallel-item:last-child::after {align-self: flex-start;width: 50%;}#sk-container-id-32 div.sk-parallel-item:only-child::after {width: 0;}#sk-container-id-32 div.sk-dashed-wrapped {border: 1px dashed gray;margin: 0 0.4em 0.5em 0.4em;box-sizing: border-box;padding-bottom: 0.4em;background-color: white;}#sk-container-id-32 div.sk-label label {font-family: monospace;font-weight: bold;display: inline-block;line-height: 1.2em;}#sk-container-id-32 div.sk-label-container {text-align: center;}#sk-container-id-32 div.sk-container {/* jupyter's `normalize.less` sets `[hidden] { display: none; }` but bootstrap.min.css set `[hidden] { display: none !important; }` so we also need the `!important` here to be able to override the default hidden behavior on the sphinx rendered scikit-learn.org. See: https://github.com/scikit-learn/scikit-learn/issues/21755 */display: inline-block !important;position: relative;}#sk-container-id-32 div.sk-text-repr-fallback {display: none;}</style><div id=\"sk-container-id-32\" class=\"sk-top-container\"><div class=\"sk-text-repr-fallback\"><pre>DecisionTreeClassifier(max_depth=3, min_samples_leaf=10, min_samples_split=4,\n",
       "                       random_state=0)</pre><b>In a Jupyter environment, please rerun this cell to show the HTML representation or trust the notebook. <br />On GitHub, the HTML representation is unable to render, please try loading this page with nbviewer.org.</b></div><div class=\"sk-container\" hidden><div class=\"sk-item\"><div class=\"sk-estimator sk-toggleable\"><input class=\"sk-toggleable__control sk-hidden--visually\" id=\"sk-estimator-id-32\" type=\"checkbox\" checked><label for=\"sk-estimator-id-32\" class=\"sk-toggleable__label sk-toggleable__label-arrow\">DecisionTreeClassifier</label><div class=\"sk-toggleable__content\"><pre>DecisionTreeClassifier(max_depth=3, min_samples_leaf=10, min_samples_split=4,\n",
       "                       random_state=0)</pre></div></div></div></div></div>"
      ],
      "text/plain": [
       "DecisionTreeClassifier(max_depth=3, min_samples_leaf=10, min_samples_split=4,\n",
       "                       random_state=0)"
      ]
     },
     "execution_count": 197,
     "metadata": {},
     "output_type": "execute_result"
    }
   ],
   "source": [
    "best_params = study.best_params\n",
    "\n",
    "model = DecisionTreeClassifier(criterion=best_params['criterion'],\n",
    "                                splitter=best_params['splitter'],\n",
    "                                max_depth=best_params['max_depth'],\n",
    "                                min_samples_split=best_params['min_samples_split'],\n",
    "                                min_samples_leaf=best_params['min_samples_leaf'],\n",
    "                                random_state=0)\n",
    "model.fit(X_train, y_train)"
   ]
  },
  {
   "cell_type": "code",
   "execution_count": 198,
   "id": "20b0eb1f",
   "metadata": {},
   "outputs": [],
   "source": [
    "y_predict = model.predict(X_test)"
   ]
  },
  {
   "cell_type": "code",
   "execution_count": 199,
   "id": "92e563e3",
   "metadata": {},
   "outputs": [
    {
     "name": "stdout",
     "output_type": "stream",
     "text": [
      "              precision    recall  f1-score   support\n",
      "\n",
      "           0       0.80      0.98      0.88       258\n",
      "           1       0.93      0.54      0.68       140\n",
      "\n",
      "    accuracy                           0.82       398\n",
      "   macro avg       0.86      0.76      0.78       398\n",
      "weighted avg       0.84      0.82      0.81       398\n",
      "\n"
     ]
    }
   ],
   "source": [
    "print(classification_report(y_test, y_predict))"
   ]
  },
  {
   "cell_type": "code",
   "execution_count": 200,
   "id": "6906eb88",
   "metadata": {},
   "outputs": [
    {
     "data": {
      "image/png": "[encoded data removed]",
      "text/plain": [
       "<Figure size 640x480 with 2 Axes>"
      ]
     },
     "metadata": {},
     "output_type": "display_data"
    }
   ],
   "source": [
    "plot_confusion_matrix(model,X_test,y_test, cmap=plt.cm.Blues)\n",
    "plt.xticks([0,1],['Yes', 'No'])\n",
    "plt.yticks([0,1], ['Yes', 'No']);"
   ]
  },
  {
   "cell_type": "markdown",
   "id": "9c6ec1cf",
   "metadata": {},
   "source": [
    "# Optuna with KNN"
   ]
  },
  {
   "cell_type": "code",
   "execution_count": 162,
   "id": "d4f1ab06",
   "metadata": {},
   "outputs": [
    {
     "name": "stderr",
     "output_type": "stream",
     "text": [
      "\u001b[32m[I 2023-05-07 14:28:27,057]\u001b[0m A new study created in memory with name: no-name-706bb35b-4424-4582-be15-dfc2d3f4ff5a\u001b[0m\n",
      "\u001b[32m[I 2023-05-07 14:28:27,079]\u001b[0m Trial 0 finished with value: 0.8090452261306532 and parameters: {'n_neighbors': 7, 'p': 1}. Best is trial 0 with value: 0.8090452261306532.\u001b[0m\n",
      "\u001b[32m[I 2023-05-07 14:28:27,095]\u001b[0m Trial 1 finished with value: 0.8140703517587939 and parameters: {'n_neighbors': 9, 'p': 2}. Best is trial 1 with value: 0.8140703517587939.\u001b[0m\n",
      "\u001b[32m[I 2023-05-07 14:28:27,142]\u001b[0m Trial 2 finished with value: 0.821608040201005 and parameters: {'n_neighbors': 14, 'p': 1}. Best is trial 2 with value: 0.821608040201005.\u001b[0m\n",
      "\u001b[32m[I 2023-05-07 14:28:27,164]\u001b[0m Trial 3 finished with value: 0.8115577889447236 and parameters: {'n_neighbors': 20, 'p': 1}. Best is trial 2 with value: 0.821608040201005.\u001b[0m\n",
      "\u001b[32m[I 2023-05-07 14:28:27,179]\u001b[0m Trial 4 finished with value: 0.8115577889447236 and parameters: {'n_neighbors': 5, 'p': 2}. Best is trial 2 with value: 0.821608040201005.\u001b[0m\n",
      "\u001b[32m[I 2023-05-07 14:28:27,211]\u001b[0m Trial 5 finished with value: 0.8165829145728644 and parameters: {'n_neighbors': 17, 'p': 1}. Best is trial 2 with value: 0.821608040201005.\u001b[0m\n",
      "\u001b[32m[I 2023-05-07 14:28:27,242]\u001b[0m Trial 6 finished with value: 0.8115577889447236 and parameters: {'n_neighbors': 5, 'p': 2}. Best is trial 2 with value: 0.821608040201005.\u001b[0m\n",
      "\u001b[32m[I 2023-05-07 14:28:27,264]\u001b[0m Trial 7 finished with value: 0.8190954773869347 and parameters: {'n_neighbors': 13, 'p': 2}. Best is trial 2 with value: 0.821608040201005.\u001b[0m\n",
      "\u001b[32m[I 2023-05-07 14:28:27,295]\u001b[0m Trial 8 finished with value: 0.8115577889447236 and parameters: {'n_neighbors': 18, 'p': 1}. Best is trial 2 with value: 0.821608040201005.\u001b[0m\n",
      "\u001b[32m[I 2023-05-07 14:28:27,327]\u001b[0m Trial 9 finished with value: 0.8090452261306532 and parameters: {'n_neighbors': 16, 'p': 2}. Best is trial 2 with value: 0.821608040201005.\u001b[0m\n",
      "\u001b[32m[I 2023-05-07 14:28:27,358]\u001b[0m Trial 10 finished with value: 0.821608040201005 and parameters: {'n_neighbors': 12, 'p': 1}. Best is trial 2 with value: 0.821608040201005.\u001b[0m\n",
      "\u001b[32m[I 2023-05-07 14:28:27,396]\u001b[0m Trial 11 finished with value: 0.821608040201005 and parameters: {'n_neighbors': 12, 'p': 1}. Best is trial 2 with value: 0.821608040201005.\u001b[0m\n",
      "\u001b[32m[I 2023-05-07 14:28:27,427]\u001b[0m Trial 12 finished with value: 0.821608040201005 and parameters: {'n_neighbors': 14, 'p': 1}. Best is trial 2 with value: 0.821608040201005.\u001b[0m\n",
      "\u001b[32m[I 2023-05-07 14:28:27,465]\u001b[0m Trial 13 finished with value: 0.8266331658291457 and parameters: {'n_neighbors': 11, 'p': 1}. Best is trial 13 with value: 0.8266331658291457.\u001b[0m\n",
      "\u001b[32m[I 2023-05-07 14:28:27,496]\u001b[0m Trial 14 finished with value: 0.8090452261306532 and parameters: {'n_neighbors': 9, 'p': 1}. Best is trial 13 with value: 0.8266331658291457.\u001b[0m\n",
      "\u001b[32m[I 2023-05-07 14:28:27,527]\u001b[0m Trial 15 finished with value: 0.821608040201005 and parameters: {'n_neighbors': 10, 'p': 1}. Best is trial 13 with value: 0.8266331658291457.\u001b[0m\n",
      "\u001b[32m[I 2023-05-07 14:28:27,565]\u001b[0m Trial 16 finished with value: 0.8241206030150754 and parameters: {'n_neighbors': 15, 'p': 1}. Best is trial 13 with value: 0.8266331658291457.\u001b[0m\n",
      "\u001b[32m[I 2023-05-07 14:28:27,596]\u001b[0m Trial 17 finished with value: 0.7713567839195979 and parameters: {'n_neighbors': 3, 'p': 1}. Best is trial 13 with value: 0.8266331658291457.\u001b[0m\n",
      "\u001b[32m[I 2023-05-07 14:28:27,643]\u001b[0m Trial 18 finished with value: 0.8241206030150754 and parameters: {'n_neighbors': 15, 'p': 1}. Best is trial 13 with value: 0.8266331658291457.\u001b[0m\n",
      "\u001b[32m[I 2023-05-07 14:28:27,681]\u001b[0m Trial 19 finished with value: 0.8140703517587939 and parameters: {'n_neighbors': 19, 'p': 1}. Best is trial 13 with value: 0.8266331658291457.\u001b[0m\n",
      "\u001b[32m[I 2023-05-07 14:28:27,712]\u001b[0m Trial 20 finished with value: 0.821608040201005 and parameters: {'n_neighbors': 10, 'p': 2}. Best is trial 13 with value: 0.8266331658291457.\u001b[0m\n",
      "\u001b[32m[I 2023-05-07 14:28:27,743]\u001b[0m Trial 21 finished with value: 0.8241206030150754 and parameters: {'n_neighbors': 15, 'p': 1}. Best is trial 13 with value: 0.8266331658291457.\u001b[0m\n",
      "\u001b[32m[I 2023-05-07 14:28:27,781]\u001b[0m Trial 22 finished with value: 0.8165829145728644 and parameters: {'n_neighbors': 16, 'p': 1}. Best is trial 13 with value: 0.8266331658291457.\u001b[0m\n",
      "\u001b[32m[I 2023-05-07 14:28:27,828]\u001b[0m Trial 23 finished with value: 0.821608040201005 and parameters: {'n_neighbors': 14, 'p': 1}. Best is trial 13 with value: 0.8266331658291457.\u001b[0m\n",
      "\u001b[32m[I 2023-05-07 14:28:27,866]\u001b[0m Trial 24 finished with value: 0.8165829145728644 and parameters: {'n_neighbors': 16, 'p': 1}. Best is trial 13 with value: 0.8266331658291457.\u001b[0m\n",
      "\u001b[32m[I 2023-05-07 14:28:27,897]\u001b[0m Trial 25 finished with value: 0.8266331658291457 and parameters: {'n_neighbors': 11, 'p': 1}. Best is trial 13 with value: 0.8266331658291457.\u001b[0m\n",
      "\u001b[32m[I 2023-05-07 14:28:27,944]\u001b[0m Trial 26 finished with value: 0.8266331658291457 and parameters: {'n_neighbors': 11, 'p': 1}. Best is trial 13 with value: 0.8266331658291457.\u001b[0m\n",
      "\u001b[32m[I 2023-05-07 14:28:27,989]\u001b[0m Trial 27 finished with value: 0.8266331658291457 and parameters: {'n_neighbors': 11, 'p': 1}. Best is trial 13 with value: 0.8266331658291457.\u001b[0m\n",
      "\u001b[32m[I 2023-05-07 14:28:28,020]\u001b[0m Trial 28 finished with value: 0.8291457286432161 and parameters: {'n_neighbors': 8, 'p': 1}. Best is trial 28 with value: 0.8291457286432161.\u001b[0m\n",
      "\u001b[32m[I 2023-05-07 14:28:28,051]\u001b[0m Trial 29 finished with value: 0.8090452261306532 and parameters: {'n_neighbors': 7, 'p': 1}. Best is trial 28 with value: 0.8291457286432161.\u001b[0m\n",
      "\u001b[32m[I 2023-05-07 14:28:28,110]\u001b[0m Trial 30 finished with value: 0.8090452261306532 and parameters: {'n_neighbors': 7, 'p': 1}. Best is trial 28 with value: 0.8291457286432161.\u001b[0m\n",
      "\u001b[32m[I 2023-05-07 14:28:28,142]\u001b[0m Trial 31 finished with value: 0.8090452261306532 and parameters: {'n_neighbors': 9, 'p': 1}. Best is trial 28 with value: 0.8291457286432161.\u001b[0m\n",
      "\u001b[32m[I 2023-05-07 14:28:28,182]\u001b[0m Trial 32 finished with value: 0.8291457286432161 and parameters: {'n_neighbors': 8, 'p': 1}. Best is trial 28 with value: 0.8291457286432161.\u001b[0m\n",
      "\u001b[32m[I 2023-05-07 14:28:28,229]\u001b[0m Trial 33 finished with value: 0.8291457286432161 and parameters: {'n_neighbors': 8, 'p': 1}. Best is trial 28 with value: 0.8291457286432161.\u001b[0m\n",
      "\u001b[32m[I 2023-05-07 14:28:28,266]\u001b[0m Trial 34 finished with value: 0.8291457286432161 and parameters: {'n_neighbors': 8, 'p': 1}. Best is trial 28 with value: 0.8291457286432161.\u001b[0m\n",
      "\u001b[32m[I 2023-05-07 14:28:28,298]\u001b[0m Trial 35 finished with value: 0.8140703517587939 and parameters: {'n_neighbors': 6, 'p': 1}. Best is trial 28 with value: 0.8291457286432161.\u001b[0m\n",
      "\u001b[32m[I 2023-05-07 14:28:28,345]\u001b[0m Trial 36 finished with value: 0.8291457286432161 and parameters: {'n_neighbors': 8, 'p': 1}. Best is trial 28 with value: 0.8291457286432161.\u001b[0m\n",
      "\u001b[32m[I 2023-05-07 14:28:28,367]\u001b[0m Trial 37 finished with value: 0.8090452261306532 and parameters: {'n_neighbors': 4, 'p': 2}. Best is trial 28 with value: 0.8291457286432161.\u001b[0m\n",
      "\u001b[32m[I 2023-05-07 14:28:28,414]\u001b[0m Trial 38 finished with value: 0.8291457286432161 and parameters: {'n_neighbors': 8, 'p': 1}. Best is trial 28 with value: 0.8291457286432161.\u001b[0m\n",
      "\u001b[32m[I 2023-05-07 14:28:28,445]\u001b[0m Trial 39 finished with value: 0.8115577889447236 and parameters: {'n_neighbors': 6, 'p': 2}. Best is trial 28 with value: 0.8291457286432161.\u001b[0m\n",
      "\u001b[32m[I 2023-05-07 14:28:28,483]\u001b[0m Trial 40 finished with value: 0.8291457286432161 and parameters: {'n_neighbors': 8, 'p': 1}. Best is trial 28 with value: 0.8291457286432161.\u001b[0m\n",
      "\u001b[32m[I 2023-05-07 14:28:28,514]\u001b[0m Trial 41 finished with value: 0.8291457286432161 and parameters: {'n_neighbors': 8, 'p': 1}. Best is trial 28 with value: 0.8291457286432161.\u001b[0m\n",
      "\u001b[32m[I 2023-05-07 14:28:28,561]\u001b[0m Trial 42 finished with value: 0.8140703517587939 and parameters: {'n_neighbors': 6, 'p': 1}. Best is trial 28 with value: 0.8291457286432161.\u001b[0m\n",
      "\u001b[32m[I 2023-05-07 14:28:28,599]\u001b[0m Trial 43 finished with value: 0.8291457286432161 and parameters: {'n_neighbors': 8, 'p': 1}. Best is trial 28 with value: 0.8291457286432161.\u001b[0m\n",
      "\u001b[32m[I 2023-05-07 14:28:28,630]\u001b[0m Trial 44 finished with value: 0.8090452261306532 and parameters: {'n_neighbors': 9, 'p': 1}. Best is trial 28 with value: 0.8291457286432161.\u001b[0m\n"
     ]
    },
    {
     "name": "stderr",
     "output_type": "stream",
     "text": [
      "\u001b[32m[I 2023-05-07 14:28:28,667]\u001b[0m Trial 45 finished with value: 0.821608040201005 and parameters: {'n_neighbors': 10, 'p': 1}. Best is trial 28 with value: 0.8291457286432161.\u001b[0m\n",
      "\u001b[32m[I 2023-05-07 14:28:28,714]\u001b[0m Trial 46 finished with value: 0.8115577889447236 and parameters: {'n_neighbors': 5, 'p': 1}. Best is trial 28 with value: 0.8291457286432161.\u001b[0m\n",
      "\u001b[32m[I 2023-05-07 14:28:28,746]\u001b[0m Trial 47 finished with value: 0.8090452261306532 and parameters: {'n_neighbors': 7, 'p': 1}. Best is trial 28 with value: 0.8291457286432161.\u001b[0m\n",
      "\u001b[32m[I 2023-05-07 14:28:28,783]\u001b[0m Trial 48 finished with value: 0.8115577889447236 and parameters: {'n_neighbors': 5, 'p': 1}. Best is trial 28 with value: 0.8291457286432161.\u001b[0m\n",
      "\u001b[32m[I 2023-05-07 14:28:28,830]\u001b[0m Trial 49 finished with value: 0.8090452261306532 and parameters: {'n_neighbors': 7, 'p': 1}. Best is trial 28 with value: 0.8291457286432161.\u001b[0m\n",
      "\u001b[32m[I 2023-05-07 14:28:28,868]\u001b[0m Trial 50 finished with value: 0.8040201005025126 and parameters: {'n_neighbors': 4, 'p': 1}. Best is trial 28 with value: 0.8291457286432161.\u001b[0m\n",
      "\u001b[32m[I 2023-05-07 14:28:28,899]\u001b[0m Trial 51 finished with value: 0.8291457286432161 and parameters: {'n_neighbors': 8, 'p': 1}. Best is trial 28 with value: 0.8291457286432161.\u001b[0m\n",
      "\u001b[32m[I 2023-05-07 14:28:28,962]\u001b[0m Trial 52 finished with value: 0.8090452261306532 and parameters: {'n_neighbors': 9, 'p': 1}. Best is trial 28 with value: 0.8291457286432161.\u001b[0m\n",
      "\u001b[32m[I 2023-05-07 14:28:28,999]\u001b[0m Trial 53 finished with value: 0.821608040201005 and parameters: {'n_neighbors': 10, 'p': 1}. Best is trial 28 with value: 0.8291457286432161.\u001b[0m\n",
      "\u001b[32m[I 2023-05-07 14:28:29,031]\u001b[0m Trial 54 finished with value: 0.8291457286432161 and parameters: {'n_neighbors': 8, 'p': 1}. Best is trial 28 with value: 0.8291457286432161.\u001b[0m\n",
      "\u001b[32m[I 2023-05-07 14:28:29,068]\u001b[0m Trial 55 finished with value: 0.8140703517587939 and parameters: {'n_neighbors': 6, 'p': 1}. Best is trial 28 with value: 0.8291457286432161.\u001b[0m\n",
      "\u001b[32m[I 2023-05-07 14:28:29,100]\u001b[0m Trial 56 finished with value: 0.8090452261306532 and parameters: {'n_neighbors': 9, 'p': 1}. Best is trial 28 with value: 0.8291457286432161.\u001b[0m\n",
      "\u001b[32m[I 2023-05-07 14:28:29,147]\u001b[0m Trial 57 finished with value: 0.8090452261306532 and parameters: {'n_neighbors': 7, 'p': 2}. Best is trial 28 with value: 0.8291457286432161.\u001b[0m\n",
      "\u001b[32m[I 2023-05-07 14:28:29,169]\u001b[0m Trial 58 finished with value: 0.821608040201005 and parameters: {'n_neighbors': 12, 'p': 1}. Best is trial 28 with value: 0.8291457286432161.\u001b[0m\n",
      "\u001b[32m[I 2023-05-07 14:28:29,200]\u001b[0m Trial 59 finished with value: 0.821608040201005 and parameters: {'n_neighbors': 10, 'p': 1}. Best is trial 28 with value: 0.8291457286432161.\u001b[0m\n",
      "\u001b[32m[I 2023-05-07 14:28:29,247]\u001b[0m Trial 60 finished with value: 0.8291457286432161 and parameters: {'n_neighbors': 8, 'p': 1}. Best is trial 28 with value: 0.8291457286432161.\u001b[0m\n",
      "\u001b[32m[I 2023-05-07 14:28:29,285]\u001b[0m Trial 61 finished with value: 0.8291457286432161 and parameters: {'n_neighbors': 8, 'p': 1}. Best is trial 28 with value: 0.8291457286432161.\u001b[0m\n",
      "\u001b[32m[I 2023-05-07 14:28:29,316]\u001b[0m Trial 62 finished with value: 0.8090452261306532 and parameters: {'n_neighbors': 7, 'p': 1}. Best is trial 28 with value: 0.8291457286432161.\u001b[0m\n",
      "\u001b[32m[I 2023-05-07 14:28:29,347]\u001b[0m Trial 63 finished with value: 0.8090452261306532 and parameters: {'n_neighbors': 9, 'p': 1}. Best is trial 28 with value: 0.8291457286432161.\u001b[0m\n",
      "\u001b[32m[I 2023-05-07 14:28:29,385]\u001b[0m Trial 64 finished with value: 0.8090452261306532 and parameters: {'n_neighbors': 9, 'p': 1}. Best is trial 28 with value: 0.8291457286432161.\u001b[0m\n",
      "\u001b[32m[I 2023-05-07 14:28:29,416]\u001b[0m Trial 65 finished with value: 0.8140703517587939 and parameters: {'n_neighbors': 6, 'p': 1}. Best is trial 28 with value: 0.8291457286432161.\u001b[0m\n",
      "\u001b[32m[I 2023-05-07 14:28:29,447]\u001b[0m Trial 66 finished with value: 0.8291457286432161 and parameters: {'n_neighbors': 8, 'p': 1}. Best is trial 28 with value: 0.8291457286432161.\u001b[0m\n",
      "\u001b[32m[I 2023-05-07 14:28:29,485]\u001b[0m Trial 67 finished with value: 0.821608040201005 and parameters: {'n_neighbors': 10, 'p': 1}. Best is trial 28 with value: 0.8291457286432161.\u001b[0m\n",
      "\u001b[32m[I 2023-05-07 14:28:29,516]\u001b[0m Trial 68 finished with value: 0.8090452261306532 and parameters: {'n_neighbors': 7, 'p': 1}. Best is trial 28 with value: 0.8291457286432161.\u001b[0m\n",
      "\u001b[32m[I 2023-05-07 14:28:29,563]\u001b[0m Trial 69 finished with value: 0.8291457286432161 and parameters: {'n_neighbors': 8, 'p': 1}. Best is trial 28 with value: 0.8291457286432161.\u001b[0m\n",
      "\u001b[32m[I 2023-05-07 14:28:29,585]\u001b[0m Trial 70 finished with value: 0.821608040201005 and parameters: {'n_neighbors': 13, 'p': 1}. Best is trial 28 with value: 0.8291457286432161.\u001b[0m\n",
      "\u001b[32m[I 2023-05-07 14:28:29,617]\u001b[0m Trial 71 finished with value: 0.8291457286432161 and parameters: {'n_neighbors': 8, 'p': 1}. Best is trial 28 with value: 0.8291457286432161.\u001b[0m\n",
      "\u001b[32m[I 2023-05-07 14:28:29,664]\u001b[0m Trial 72 finished with value: 0.8140703517587939 and parameters: {'n_neighbors': 6, 'p': 1}. Best is trial 28 with value: 0.8291457286432161.\u001b[0m\n",
      "\u001b[32m[I 2023-05-07 14:28:29,686]\u001b[0m Trial 73 finished with value: 0.8090452261306532 and parameters: {'n_neighbors': 9, 'p': 1}. Best is trial 28 with value: 0.8291457286432161.\u001b[0m\n",
      "\u001b[32m[I 2023-05-07 14:28:29,717]\u001b[0m Trial 74 finished with value: 0.8291457286432161 and parameters: {'n_neighbors': 8, 'p': 1}. Best is trial 28 with value: 0.8291457286432161.\u001b[0m\n",
      "\u001b[32m[I 2023-05-07 14:28:29,748]\u001b[0m Trial 75 finished with value: 0.8090452261306532 and parameters: {'n_neighbors': 9, 'p': 1}. Best is trial 28 with value: 0.8291457286432161.\u001b[0m\n",
      "\u001b[32m[I 2023-05-07 14:28:29,802]\u001b[0m Trial 76 finished with value: 0.8090452261306532 and parameters: {'n_neighbors': 7, 'p': 1}. Best is trial 28 with value: 0.8291457286432161.\u001b[0m\n",
      "\u001b[32m[I 2023-05-07 14:28:29,848]\u001b[0m Trial 77 finished with value: 0.821608040201005 and parameters: {'n_neighbors': 10, 'p': 1}. Best is trial 28 with value: 0.8291457286432161.\u001b[0m\n",
      "\u001b[32m[I 2023-05-07 14:28:29,917]\u001b[0m Trial 78 finished with value: 0.8115577889447236 and parameters: {'n_neighbors': 5, 'p': 1}. Best is trial 28 with value: 0.8291457286432161.\u001b[0m\n",
      "\u001b[32m[I 2023-05-07 14:28:29,971]\u001b[0m Trial 79 finished with value: 0.8090452261306532 and parameters: {'n_neighbors': 7, 'p': 1}. Best is trial 28 with value: 0.8291457286432161.\u001b[0m\n",
      "\u001b[32m[I 2023-05-07 14:28:30,002]\u001b[0m Trial 80 finished with value: 0.8266331658291457 and parameters: {'n_neighbors': 11, 'p': 1}. Best is trial 28 with value: 0.8291457286432161.\u001b[0m\n",
      "\u001b[32m[I 2023-05-07 14:28:30,049]\u001b[0m Trial 81 finished with value: 0.8291457286432161 and parameters: {'n_neighbors': 8, 'p': 1}. Best is trial 28 with value: 0.8291457286432161.\u001b[0m\n",
      "\u001b[32m[I 2023-05-07 14:28:30,087]\u001b[0m Trial 82 finished with value: 0.8291457286432161 and parameters: {'n_neighbors': 8, 'p': 1}. Best is trial 28 with value: 0.8291457286432161.\u001b[0m\n",
      "\u001b[32m[I 2023-05-07 14:28:30,118]\u001b[0m Trial 83 finished with value: 0.8090452261306532 and parameters: {'n_neighbors': 9, 'p': 1}. Best is trial 28 with value: 0.8291457286432161.\u001b[0m\n",
      "\u001b[32m[I 2023-05-07 14:28:30,165]\u001b[0m Trial 84 finished with value: 0.8115577889447236 and parameters: {'n_neighbors': 20, 'p': 1}. Best is trial 28 with value: 0.8291457286432161.\u001b[0m\n",
      "\u001b[32m[I 2023-05-07 14:28:30,203]\u001b[0m Trial 85 finished with value: 0.8291457286432161 and parameters: {'n_neighbors': 8, 'p': 1}. Best is trial 28 with value: 0.8291457286432161.\u001b[0m\n",
      "\u001b[32m[I 2023-05-07 14:28:30,234]\u001b[0m Trial 86 finished with value: 0.8140703517587939 and parameters: {'n_neighbors': 6, 'p': 1}. Best is trial 28 with value: 0.8291457286432161.\u001b[0m\n",
      "\u001b[32m[I 2023-05-07 14:28:30,272]\u001b[0m Trial 87 finished with value: 0.8140703517587939 and parameters: {'n_neighbors': 9, 'p': 2}. Best is trial 28 with value: 0.8291457286432161.\u001b[0m\n",
      "\u001b[32m[I 2023-05-07 14:28:30,318]\u001b[0m Trial 88 finished with value: 0.8090452261306532 and parameters: {'n_neighbors': 7, 'p': 1}. Best is trial 28 with value: 0.8291457286432161.\u001b[0m\n",
      "\u001b[32m[I 2023-05-07 14:28:30,372]\u001b[0m Trial 89 finished with value: 0.821608040201005 and parameters: {'n_neighbors': 10, 'p': 1}. Best is trial 28 with value: 0.8291457286432161.\u001b[0m\n"
     ]
    },
    {
     "name": "stderr",
     "output_type": "stream",
     "text": [
      "\u001b[32m[I 2023-05-07 14:28:30,419]\u001b[0m Trial 90 finished with value: 0.8291457286432161 and parameters: {'n_neighbors': 8, 'p': 1}. Best is trial 28 with value: 0.8291457286432161.\u001b[0m\n",
      "\u001b[32m[I 2023-05-07 14:28:30,466]\u001b[0m Trial 91 finished with value: 0.8291457286432161 and parameters: {'n_neighbors': 8, 'p': 1}. Best is trial 28 with value: 0.8291457286432161.\u001b[0m\n",
      "\u001b[32m[I 2023-05-07 14:28:30,503]\u001b[0m Trial 92 finished with value: 0.8090452261306532 and parameters: {'n_neighbors': 7, 'p': 1}. Best is trial 28 with value: 0.8291457286432161.\u001b[0m\n",
      "\u001b[32m[I 2023-05-07 14:28:30,535]\u001b[0m Trial 93 finished with value: 0.8090452261306532 and parameters: {'n_neighbors': 9, 'p': 1}. Best is trial 28 with value: 0.8291457286432161.\u001b[0m\n",
      "\u001b[32m[I 2023-05-07 14:28:30,572]\u001b[0m Trial 94 finished with value: 0.8090452261306532 and parameters: {'n_neighbors': 7, 'p': 1}. Best is trial 28 with value: 0.8291457286432161.\u001b[0m\n",
      "\u001b[32m[I 2023-05-07 14:28:30,619]\u001b[0m Trial 95 finished with value: 0.8291457286432161 and parameters: {'n_neighbors': 8, 'p': 1}. Best is trial 28 with value: 0.8291457286432161.\u001b[0m\n",
      "\u001b[32m[I 2023-05-07 14:28:30,651]\u001b[0m Trial 96 finished with value: 0.8140703517587939 and parameters: {'n_neighbors': 6, 'p': 1}. Best is trial 28 with value: 0.8291457286432161.\u001b[0m\n",
      "\u001b[32m[I 2023-05-07 14:28:30,688]\u001b[0m Trial 97 finished with value: 0.8090452261306532 and parameters: {'n_neighbors': 9, 'p': 1}. Best is trial 28 with value: 0.8291457286432161.\u001b[0m\n",
      "\u001b[32m[I 2023-05-07 14:28:30,735]\u001b[0m Trial 98 finished with value: 0.821608040201005 and parameters: {'n_neighbors': 10, 'p': 1}. Best is trial 28 with value: 0.8291457286432161.\u001b[0m\n",
      "\u001b[32m[I 2023-05-07 14:28:30,773]\u001b[0m Trial 99 finished with value: 0.8090452261306532 and parameters: {'n_neighbors': 7, 'p': 1}. Best is trial 28 with value: 0.8291457286432161.\u001b[0m\n"
     ]
    },
    {
     "name": "stdout",
     "output_type": "stream",
     "text": [
      "Best accuracy score: 0.82915\n",
      "Best hyperparameters:\n",
      "\tn_neighbors: 8\n",
      "\tp: 1\n"
     ]
    },
    {
     "data": {
      "text/html": [
       "<style>#sk-container-id-26 {color: black;background-color: white;}#sk-container-id-26 pre{padding: 0;}#sk-container-id-26 div.sk-toggleable {background-color: white;}#sk-container-id-26 label.sk-toggleable__label {cursor: pointer;display: block;width: 100%;margin-bottom: 0;padding: 0.3em;box-sizing: border-box;text-align: center;}#sk-container-id-26 label.sk-toggleable__label-arrow:before {content: \"▸\";float: left;margin-right: 0.25em;color: #696969;}#sk-container-id-26 label.sk-toggleable__label-arrow:hover:before {color: black;}#sk-container-id-26 div.sk-estimator:hover label.sk-toggleable__label-arrow:before {color: black;}#sk-container-id-26 div.sk-toggleable__content {max-height: 0;max-width: 0;overflow: hidden;text-align: left;background-color: #f0f8ff;}#sk-container-id-26 div.sk-toggleable__content pre {margin: 0.2em;color: black;border-radius: 0.25em;background-color: #f0f8ff;}#sk-container-id-26 input.sk-toggleable__control:checked~div.sk-toggleable__content {max-height: 200px;max-width: 100%;overflow: auto;}#sk-container-id-26 input.sk-toggleable__control:checked~label.sk-toggleable__label-arrow:before {content: \"▾\";}#sk-container-id-26 div.sk-estimator input.sk-toggleable__control:checked~label.sk-toggleable__label {background-color: #d4ebff;}#sk-container-id-26 div.sk-label input.sk-toggleable__control:checked~label.sk-toggleable__label {background-color: #d4ebff;}#sk-container-id-26 input.sk-hidden--visually {border: 0;clip: rect(1px 1px 1px 1px);clip: rect(1px, 1px, 1px, 1px);height: 1px;margin: -1px;overflow: hidden;padding: 0;position: absolute;width: 1px;}#sk-container-id-26 div.sk-estimator {font-family: monospace;background-color: #f0f8ff;border: 1px dotted black;border-radius: 0.25em;box-sizing: border-box;margin-bottom: 0.5em;}#sk-container-id-26 div.sk-estimator:hover {background-color: #d4ebff;}#sk-container-id-26 div.sk-parallel-item::after {content: \"\";width: 100%;border-bottom: 1px solid gray;flex-grow: 1;}#sk-container-id-26 div.sk-label:hover label.sk-toggleable__label {background-color: #d4ebff;}#sk-container-id-26 div.sk-serial::before {content: \"\";position: absolute;border-left: 1px solid gray;box-sizing: border-box;top: 0;bottom: 0;left: 50%;z-index: 0;}#sk-container-id-26 div.sk-serial {display: flex;flex-direction: column;align-items: center;background-color: white;padding-right: 0.2em;padding-left: 0.2em;position: relative;}#sk-container-id-26 div.sk-item {position: relative;z-index: 1;}#sk-container-id-26 div.sk-parallel {display: flex;align-items: stretch;justify-content: center;background-color: white;position: relative;}#sk-container-id-26 div.sk-item::before, #sk-container-id-26 div.sk-parallel-item::before {content: \"\";position: absolute;border-left: 1px solid gray;box-sizing: border-box;top: 0;bottom: 0;left: 50%;z-index: -1;}#sk-container-id-26 div.sk-parallel-item {display: flex;flex-direction: column;z-index: 1;position: relative;background-color: white;}#sk-container-id-26 div.sk-parallel-item:first-child::after {align-self: flex-end;width: 50%;}#sk-container-id-26 div.sk-parallel-item:last-child::after {align-self: flex-start;width: 50%;}#sk-container-id-26 div.sk-parallel-item:only-child::after {width: 0;}#sk-container-id-26 div.sk-dashed-wrapped {border: 1px dashed gray;margin: 0 0.4em 0.5em 0.4em;box-sizing: border-box;padding-bottom: 0.4em;background-color: white;}#sk-container-id-26 div.sk-label label {font-family: monospace;font-weight: bold;display: inline-block;line-height: 1.2em;}#sk-container-id-26 div.sk-label-container {text-align: center;}#sk-container-id-26 div.sk-container {/* jupyter's `normalize.less` sets `[hidden] { display: none; }` but bootstrap.min.css set `[hidden] { display: none !important; }` so we also need the `!important` here to be able to override the default hidden behavior on the sphinx rendered scikit-learn.org. See: https://github.com/scikit-learn/scikit-learn/issues/21755 */display: inline-block !important;position: relative;}#sk-container-id-26 div.sk-text-repr-fallback {display: none;}</style><div id=\"sk-container-id-26\" class=\"sk-top-container\"><div class=\"sk-text-repr-fallback\"><pre>KNeighborsClassifier(n_neighbors=8, p=1)</pre><b>In a Jupyter environment, please rerun this cell to show the HTML representation or trust the notebook. <br />On GitHub, the HTML representation is unable to render, please try loading this page with nbviewer.org.</b></div><div class=\"sk-container\" hidden><div class=\"sk-item\"><div class=\"sk-estimator sk-toggleable\"><input class=\"sk-toggleable__control sk-hidden--visually\" id=\"sk-estimator-id-26\" type=\"checkbox\" checked><label for=\"sk-estimator-id-26\" class=\"sk-toggleable__label sk-toggleable__label-arrow\">KNeighborsClassifier</label><div class=\"sk-toggleable__content\"><pre>KNeighborsClassifier(n_neighbors=8, p=1)</pre></div></div></div></div></div>"
      ],
      "text/plain": [
       "KNeighborsClassifier(n_neighbors=8, p=1)"
      ]
     },
     "execution_count": 162,
     "metadata": {},
     "output_type": "execute_result"
    }
   ],
   "source": [
    "from sklearn.metrics import accuracy_score\n",
    "\n",
    "def objective(trial):\n",
    "    # Define the hyperparameters to optimize\n",
    "    n_neighbors = trial.suggest_int('n_neighbors', 3, 20)\n",
    "    p = trial.suggest_int('p', 1, 2)\n",
    "\n",
    "    # Train a KNN classifier with the current hyperparameters\n",
    "    model = KNeighborsClassifier(n_neighbors=n_neighbors,\n",
    "                                  p=p)\n",
    "    model.fit(X_train, y_train)\n",
    "\n",
    "    # Calculate the accuracy score for the model on the test data\n",
    "    y_pred = model.predict(X_test)\n",
    "    accuracy = accuracy_score(y_test, y_pred)\n",
    "\n",
    "    # Report the accuracy score to Optuna\n",
    "    return accuracy\n"
   ]
  },
  {
   "cell_type": "code",
   "execution_count": null,
   "id": "276d88e1",
   "metadata": {},
   "outputs": [],
   "source": [
    "study = optuna.create_study(direction='maximize')\n",
    "study.optimize(objective, n_trials=100)\n",
    "\n",
    "print(f\"Best accuracy score: {study.best_value:.5f}\")\n",
    "print(\"Best hyperparameters:\")\n",
    "for key, value in study.best_params.items():\n",
    "    print(f\"\\t{key}: {value}\")\n",
    "\n",
    "# Train the final KNN classifier with the best hyperparameters\n",
    "best_params = study.best_params\n",
    "model = KNeighborsClassifier(n_neighbors=best_params['n_neighbors'],\n",
    "                              p=best_params['p'])\n",
    "model.fit(X_train, y_train)"
   ]
  },
  {
   "cell_type": "code",
   "execution_count": 163,
   "id": "79984eb7",
   "metadata": {},
   "outputs": [
    {
     "data": {
      "text/html": [
       "<style>#sk-container-id-27 {color: black;background-color: white;}#sk-container-id-27 pre{padding: 0;}#sk-container-id-27 div.sk-toggleable {background-color: white;}#sk-container-id-27 label.sk-toggleable__label {cursor: pointer;display: block;width: 100%;margin-bottom: 0;padding: 0.3em;box-sizing: border-box;text-align: center;}#sk-container-id-27 label.sk-toggleable__label-arrow:before {content: \"▸\";float: left;margin-right: 0.25em;color: #696969;}#sk-container-id-27 label.sk-toggleable__label-arrow:hover:before {color: black;}#sk-container-id-27 div.sk-estimator:hover label.sk-toggleable__label-arrow:before {color: black;}#sk-container-id-27 div.sk-toggleable__content {max-height: 0;max-width: 0;overflow: hidden;text-align: left;background-color: #f0f8ff;}#sk-container-id-27 div.sk-toggleable__content pre {margin: 0.2em;color: black;border-radius: 0.25em;background-color: #f0f8ff;}#sk-container-id-27 input.sk-toggleable__control:checked~div.sk-toggleable__content {max-height: 200px;max-width: 100%;overflow: auto;}#sk-container-id-27 input.sk-toggleable__control:checked~label.sk-toggleable__label-arrow:before {content: \"▾\";}#sk-container-id-27 div.sk-estimator input.sk-toggleable__control:checked~label.sk-toggleable__label {background-color: #d4ebff;}#sk-container-id-27 div.sk-label input.sk-toggleable__control:checked~label.sk-toggleable__label {background-color: #d4ebff;}#sk-container-id-27 input.sk-hidden--visually {border: 0;clip: rect(1px 1px 1px 1px);clip: rect(1px, 1px, 1px, 1px);height: 1px;margin: -1px;overflow: hidden;padding: 0;position: absolute;width: 1px;}#sk-container-id-27 div.sk-estimator {font-family: monospace;background-color: #f0f8ff;border: 1px dotted black;border-radius: 0.25em;box-sizing: border-box;margin-bottom: 0.5em;}#sk-container-id-27 div.sk-estimator:hover {background-color: #d4ebff;}#sk-container-id-27 div.sk-parallel-item::after {content: \"\";width: 100%;border-bottom: 1px solid gray;flex-grow: 1;}#sk-container-id-27 div.sk-label:hover label.sk-toggleable__label {background-color: #d4ebff;}#sk-container-id-27 div.sk-serial::before {content: \"\";position: absolute;border-left: 1px solid gray;box-sizing: border-box;top: 0;bottom: 0;left: 50%;z-index: 0;}#sk-container-id-27 div.sk-serial {display: flex;flex-direction: column;align-items: center;background-color: white;padding-right: 0.2em;padding-left: 0.2em;position: relative;}#sk-container-id-27 div.sk-item {position: relative;z-index: 1;}#sk-container-id-27 div.sk-parallel {display: flex;align-items: stretch;justify-content: center;background-color: white;position: relative;}#sk-container-id-27 div.sk-item::before, #sk-container-id-27 div.sk-parallel-item::before {content: \"\";position: absolute;border-left: 1px solid gray;box-sizing: border-box;top: 0;bottom: 0;left: 50%;z-index: -1;}#sk-container-id-27 div.sk-parallel-item {display: flex;flex-direction: column;z-index: 1;position: relative;background-color: white;}#sk-container-id-27 div.sk-parallel-item:first-child::after {align-self: flex-end;width: 50%;}#sk-container-id-27 div.sk-parallel-item:last-child::after {align-self: flex-start;width: 50%;}#sk-container-id-27 div.sk-parallel-item:only-child::after {width: 0;}#sk-container-id-27 div.sk-dashed-wrapped {border: 1px dashed gray;margin: 0 0.4em 0.5em 0.4em;box-sizing: border-box;padding-bottom: 0.4em;background-color: white;}#sk-container-id-27 div.sk-label label {font-family: monospace;font-weight: bold;display: inline-block;line-height: 1.2em;}#sk-container-id-27 div.sk-label-container {text-align: center;}#sk-container-id-27 div.sk-container {/* jupyter's `normalize.less` sets `[hidden] { display: none; }` but bootstrap.min.css set `[hidden] { display: none !important; }` so we also need the `!important` here to be able to override the default hidden behavior on the sphinx rendered scikit-learn.org. See: https://github.com/scikit-learn/scikit-learn/issues/21755 */display: inline-block !important;position: relative;}#sk-container-id-27 div.sk-text-repr-fallback {display: none;}</style><div id=\"sk-container-id-27\" class=\"sk-top-container\"><div class=\"sk-text-repr-fallback\"><pre>KNeighborsClassifier(n_neighbors=8, p=1)</pre><b>In a Jupyter environment, please rerun this cell to show the HTML representation or trust the notebook. <br />On GitHub, the HTML representation is unable to render, please try loading this page with nbviewer.org.</b></div><div class=\"sk-container\" hidden><div class=\"sk-item\"><div class=\"sk-estimator sk-toggleable\"><input class=\"sk-toggleable__control sk-hidden--visually\" id=\"sk-estimator-id-27\" type=\"checkbox\" checked><label for=\"sk-estimator-id-27\" class=\"sk-toggleable__label sk-toggleable__label-arrow\">KNeighborsClassifier</label><div class=\"sk-toggleable__content\"><pre>KNeighborsClassifier(n_neighbors=8, p=1)</pre></div></div></div></div></div>"
      ],
      "text/plain": [
       "KNeighborsClassifier(n_neighbors=8, p=1)"
      ]
     },
     "execution_count": 163,
     "metadata": {},
     "output_type": "execute_result"
    }
   ],
   "source": [
    "from sklearn.neighbors import KNeighborsClassifier\n",
    "\n",
    "\n",
    "knn = KNeighborsClassifier(n_neighbors=8, p = 1)\n",
    "knn.fit(X_train, y_train)"
   ]
  },
  {
   "cell_type": "code",
   "execution_count": 164,
   "id": "58a42ea5",
   "metadata": {},
   "outputs": [],
   "source": [
    "y_predict = knn.predict(X_test)"
   ]
  },
  {
   "cell_type": "code",
   "execution_count": 165,
   "id": "7540a1f6",
   "metadata": {},
   "outputs": [
    {
     "name": "stdout",
     "output_type": "stream",
     "text": [
      "              precision    recall  f1-score   support\n",
      "\n",
      "           0       0.81      0.97      0.88       258\n",
      "           1       0.91      0.57      0.70       140\n",
      "\n",
      "    accuracy                           0.83       398\n",
      "   macro avg       0.86      0.77      0.79       398\n",
      "weighted avg       0.84      0.83      0.82       398\n",
      "\n"
     ]
    }
   ],
   "source": [
    "print(classification_report(y_test, y_predict))"
   ]
  },
  {
   "cell_type": "code",
   "execution_count": 161,
   "id": "d0b571e9",
   "metadata": {
    "scrolled": true
   },
   "outputs": [
    {
     "data": {
      "image/png": "[encoded data removed]",
      "text/plain": [
       "<Figure size 640x480 with 2 Axes>"
      ]
     },
     "metadata": {},
     "output_type": "display_data"
    }
   ],
   "source": [
    "plot_confusion_matrix(knn,X_test,y_test, cmap=plt.cm.Blues)\n",
    "plt.xticks([0,1],['Yes', 'No'])\n",
    "plt.yticks([0,1], ['Yes', 'No']);"
   ]
  },
  {
   "cell_type": "code",
   "execution_count": null,
   "id": "40f55faf",
   "metadata": {},
   "outputs": [],
   "source": []
  }
 ],
 "metadata": {
  "kernelspec": {
   "display_name": "Python 3 (ipykernel)",
   "language": "python",
   "name": "python3"
  },
  "language_info": {
   "codemirror_mode": {
    "name": "ipython",
    "version": 3
   },
   "file_extension": ".py",
   "mimetype": "text/x-python",
   "name": "python",
   "nbconvert_exporter": "python",
   "pygments_lexer": "ipython3",
   "version": "3.10.7"
  },
  "toc": {
   "base_numbering": 1,
   "nav_menu": {},
   "number_sections": true,
   "sideBar": true,
   "skip_h1_title": false,
   "title_cell": "Table of Contents",
   "title_sidebar": "Contents",
   "toc_cell": false,
   "toc_position": {},
   "toc_section_display": true,
   "toc_window_display": false
  }
 },
 "nbformat": 4,
 "nbformat_minor": 5
}
